{
  "nbformat": 4,
  "nbformat_minor": 0,
  "metadata": {
    "colab": {
      "name": "AudioDownload.ipynb",
      "provenance": [],
      "collapsed_sections": [],
      "mount_file_id": "1TlCqSXWYsSLiS1CoWW8Syp4zZ4c_O-hQ",
      "authorship_tag": "ABX9TyOeTpEPaayfeUbn3WNlsXEg",
      "include_colab_link": true
    },
    "kernelspec": {
      "name": "python3",
      "display_name": "Python 3"
    }
  },
  "cells": [
    {
      "cell_type": "markdown",
      "metadata": {
        "id": "view-in-github",
        "colab_type": "text"
      },
      "source": [
        "<a href=\"https://colab.research.google.com/github/rbqpark/tinger/blob/main/AudioDownload.ipynb\" target=\"_parent\"><img src=\"https://colab.research.google.com/assets/colab-badge.svg\" alt=\"Open In Colab\"/></a>"
      ]
    },
    {
      "cell_type": "markdown",
      "metadata": {
        "id": "KazUpslTC0bR"
      },
      "source": [
        "#**Download audio files using youtube-dl**\n",
        "\n",
        "This notebook houses a short script that downloads pre-defined Youtube playlists in our Tinger Google Drive database.\n",
        "---\n",
        "\n",
        "\n",
        "Code research links:\n",
        "\n",
        "youtube-dl: https://github.com/ytdl-org/youtube-dl/blob/master/README.md#readme \n",
        "\n",
        "re-naming files: https://www.reddit.com/r/youtubedl/comments/iytqqh/how_to_directly_download_videos_to_google_drive/\n"
      ]
    },
    {
      "cell_type": "code",
      "metadata": {
        "id": "v6Bq3c8ACw66",
        "colab": {
          "base_uri": "https://localhost:8080/"
        },
        "outputId": "1c595ef4-92e5-4763-e34f-9bc49ececfca"
      },
      "source": [
        "# Install libraries not local to Colab\n",
        "%pip install pydub\n",
        "%pip install ffmpeg\n",
        "%pip install youtube_dl"
      ],
      "execution_count": null,
      "outputs": [
        {
          "output_type": "stream",
          "text": [
            "Requirement already satisfied: pydub in /usr/local/lib/python3.7/dist-packages (0.25.1)\n",
            "Requirement already satisfied: ffmpeg in /usr/local/lib/python3.7/dist-packages (1.4)\n",
            "Requirement already satisfied: youtube_dl in /usr/local/lib/python3.7/dist-packages (2021.4.7)\n"
          ],
          "name": "stdout"
        }
      ]
    },
    {
      "cell_type": "code",
      "metadata": {
        "colab": {
          "base_uri": "https://localhost:8080/"
        },
        "id": "Uevu32v_55RQ",
        "outputId": "109146fa-0db9-4db9-a985-fff5b3dadf1e"
      },
      "source": [
        "from google.colab import drive\n",
        "drive.mount('/content/drive')"
      ],
      "execution_count": null,
      "outputs": [
        {
          "output_type": "stream",
          "text": [
            "Drive already mounted at /content/drive; to attempt to forcibly remount, call drive.mount(\"/content/drive\", force_remount=True).\n"
          ],
          "name": "stdout"
        }
      ]
    },
    {
      "cell_type": "code",
      "metadata": {
        "id": "9kfGdDhO9CW0"
      },
      "source": [
        "# Install all other dependencies\n",
        "import os\n",
        "import youtube_dl"
      ],
      "execution_count": null,
      "outputs": []
    },
    {
      "cell_type": "code",
      "metadata": {
        "id": "HLDreTY_835a"
      },
      "source": [
        "# Specify download options and paths\n",
        "mandarin_save_path = '/content/drive/My Drive/Tinger/Code/Audio/Audio_Mandarin/'\n",
        "english_save_path = '/content/drive/My Drive/Tinger/Code/Audio/Audio_English/'\n",
        "\n",
        "mandarin_link = 'https://www.youtube.com/playlist?list=PLs4Qo78CBa_IqUjoOsnP6zPONpLSI61-N'\n",
        "english_link = 'https://www.youtube.com/playlist?list=PLs4Qo78CBa_Lt8SoDLENchU7zWhL49V1y'\n",
        "\n",
        "mandarin_options = {'format': 'bestaudio',\n",
        "           'outtmpl': mandarin_save_path + '/%(title)s.%(ext)s',\n",
        "           'postprocessors': [{\n",
        "               'key': 'FFmpegExtractAudio',\n",
        "               'preferredcodec': 'mp3',\n",
        "               'preferredquality': '192',\n",
        "               }],\n",
        "           'ignoreerrors': True\n",
        "           }\n",
        "\n",
        "english_options = {'format': 'bestaudio',\n",
        "           'outtmpl': english_save_path + '/%(title)s.%(ext)s',\n",
        "           'postprocessors': [{\n",
        "               'key': 'FFmpegExtractAudio',\n",
        "               'preferredcodec': 'mp3',\n",
        "               'preferredquality': '192',\n",
        "               }],\n",
        "           'ignoreerrors': True\n",
        "           }\n",
        "\n",
        "def downloadPlaylist(link, options):\n",
        "        with youtube_dl.YoutubeDL(options) as ydl:\n",
        "            ydl.download([link])"
      ],
      "execution_count": null,
      "outputs": []
    },
    {
      "cell_type": "code",
      "metadata": {
        "id": "-uo7IJXY6mfl"
      },
      "source": [
        "# Download playlists\n",
        "downloadPlaylist(mandarin_link, mandarin_options)\n",
        "downloadPlaylist(english_link, english_options)"
      ],
      "execution_count": null,
      "outputs": []
    },
    {
      "cell_type": "code",
      "metadata": {
        "id": "zLzKcGHU-D_0"
      },
      "source": [
        ""
      ],
      "execution_count": null,
      "outputs": []
    }
  ]
}