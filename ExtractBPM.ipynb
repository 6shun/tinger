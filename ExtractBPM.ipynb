{
  "nbformat": 4,
  "nbformat_minor": 0,
  "metadata": {
    "colab": {
      "name": "ExtractBPM.ipynb",
      "provenance": [],
      "collapsed_sections": [],
      "include_colab_link": true
    },
    "kernelspec": {
      "name": "python3",
      "display_name": "Python 3"
    }
  },
  "cells": [
    {
      "cell_type": "markdown",
      "metadata": {
        "id": "view-in-github",
        "colab_type": "text"
      },
      "source": [
        "<a href=\"https://colab.research.google.com/github/rbqpark/tinger/blob/main/ExtractBPM.ipynb\" target=\"_parent\"><img src=\"https://colab.research.google.com/assets/colab-badge.svg\" alt=\"Open In Colab\"/></a>"
      ]
    },
    {
      "cell_type": "markdown",
      "metadata": {
        "id": "d-D-Jm0DRTSr"
      },
      "source": [
        "### Import libraries and other dependencies"
      ]
    },
    {
      "cell_type": "code",
      "metadata": {
        "id": "HqVEC5VmOxOf",
        "colab": {
          "base_uri": "https://localhost:8080/"
        },
        "outputId": "aa0566a0-78bb-483f-ca58-12411ec9ed69"
      },
      "source": [
        "# Mount Google Drive\n",
        "from google.colab import drive\n",
        "drive.mount('/content/drive')"
      ],
      "execution_count": null,
      "outputs": [
        {
          "output_type": "stream",
          "text": [
            "Mounted at /content/drive\n"
          ],
          "name": "stdout"
        }
      ]
    },
    {
      "cell_type": "code",
      "metadata": {
        "id": "v6Bq3c8ACw66",
        "colab": {
          "base_uri": "https://localhost:8080/"
        },
        "outputId": "f5b24939-cd19-4bb7-8708-245644b01592"
      },
      "source": [
        "# Install essentia library\n",
        "%pip install essentia"
      ],
      "execution_count": null,
      "outputs": [
        {
          "output_type": "stream",
          "text": [
            "Requirement already satisfied: essentia in /usr/local/lib/python3.7/dist-packages (2.1b6.dev374)\n",
            "Requirement already satisfied: numpy>=1.8.2 in /usr/local/lib/python3.7/dist-packages (from essentia) (1.19.5)\n",
            "Requirement already satisfied: six in /usr/local/lib/python3.7/dist-packages (from essentia) (1.15.0)\n",
            "Requirement already satisfied: pyyaml in /usr/local/lib/python3.7/dist-packages (from essentia) (3.13)\n"
          ],
          "name": "stdout"
        }
      ]
    },
    {
      "cell_type": "code",
      "metadata": {
        "id": "wbIjs3E48M3Z"
      },
      "source": [
        "# Install all other dependencies\n",
        "import glob # for iteratives\n",
        "import numpy as np\n",
        "import pandas as pd\n",
        "import matplotlib.pyplot as plt\n",
        "\n",
        "# Essetntia Library\n",
        "from essentia.standard import *\n",
        "import essentia.standard as estd\n",
        "import essentia.streaming as ess"
      ],
      "execution_count": null,
      "outputs": []
    },
    {
      "cell_type": "markdown",
      "metadata": {
        "id": "ALgdT90yRXgj"
      },
      "source": [
        "### Specify Path & Iterators"
      ]
    },
    {
      "cell_type": "code",
      "metadata": {
        "id": "-Ag0j4w8zvaD"
      },
      "source": [
        "# Specify download paths\n",
        "mandarin_wav_path = '/content/drive/My Drive/Tinger/Code/Audio/Audio_Mandarin/'\n",
        "english_wav_path = '/content/drive/My Drive/Tinger/Code/Audio/Audio_English/'\n",
        "\n",
        "mandarin_save_path = '/content/drive/My Drive/Tinger/Code/BPM-Output/BPM_Mandarin/'\n",
        "english_save_path = '/content/drive/My Drive/Tinger/Code/BPM-Output/BPM_English/'"
      ],
      "execution_count": null,
      "outputs": []
    },
    {
      "cell_type": "code",
      "metadata": {
        "id": "oVDmK-I7heQL"
      },
      "source": [
        "# Get file names as an iterator\n",
        "mandarin_wav_iter = glob.iglob(mandarin_wav_path + '*.wav', recursive=True)\n",
        "english_wav_iter = glob.iglob(english_wav_path + '*.wav', recursive=True)"
      ],
      "execution_count": null,
      "outputs": []
    },
    {
      "cell_type": "markdown",
      "metadata": {
        "id": "LuUtJs5XdVkd"
      },
      "source": [
        "### Take in audio data and extract BPM and Danceability measures"
      ]
    },
    {
      "cell_type": "code",
      "metadata": {
        "id": "xricbBv1dTl3"
      },
      "source": [
        "# Input: filepath\n",
        "audio = MonoLoader(filename=filepath)()\n",
        "# Load audio via iter\n",
        "audio = MonoLoader(filename=filepath)()\n",
        "# BPM\n",
        "rhythm_extractor = RhythmExtractor2013(method=\"multifeature\")\n",
        "bpm, beats, beats_confidence, _, beats_intervals = rhythm_extractor(audio)\n",
        "# Dancebility\n",
        "danceability, dfa = Danceability()(audio)\n"
      ],
      "execution_count": null,
      "outputs": []
    },
    {
      "cell_type": "markdown",
      "metadata": {
        "id": "6iPU6mOVRhlb"
      },
      "source": [
        "### BPM, Dancebility output for Mandarin songs. Export dataframe into Tinger Google Drive database.\n",
        "\n"
      ]
    },
    {
      "cell_type": "code",
      "metadata": {
        "id": "bsD5ewa1BGRX"
      },
      "source": [
        "#data_m stores:1.filepath 2.bpm 3.danceability\n",
        "data_m=[]\n",
        "for m in mandarin_wav_iter:\n",
        "  # Load autio via iter\n",
        "  audio = MonoLoader(filename=m)()\n",
        "  # BPM\n",
        "  rhythm_extractor = RhythmExtractor2013(method=\"multifeature\")\n",
        "  bpm, beats, beats_confidence, _, beats_intervals = rhythm_extractor(audio)\n",
        "  # Dancebility\n",
        "  danceability, dfa = Danceability()(audio)\n",
        "\n",
        "  data_m.append([m,bpm,danceability])\n",
        "\n",
        "# initiate dataframe\n",
        "df_m = pd.DataFrame(data_m,columns=[\"filepath\", \"bpm\",\"danceability\"])"
      ],
      "execution_count": null,
      "outputs": []
    },
    {
      "cell_type": "code",
      "metadata": {
        "id": "wJKXVe46BGWu"
      },
      "source": [
        "# Only need to run once. Export Mandarin dataframe with data to csv.\n",
        "df_m.to_csv('bpm_mandarin.csv')\n",
        "!cp bpm_mandarin.csv \"/content/drive/MyDrive/Tinger/Code/BPM-Output/\""
      ],
      "execution_count": null,
      "outputs": []
    },
    {
      "cell_type": "markdown",
      "metadata": {
        "id": "2O02Qr1QRnRg"
      },
      "source": [
        "### BPM, Danceability output for English songs. Export dataframe into Tinger Google Drive database."
      ]
    },
    {
      "cell_type": "code",
      "metadata": {
        "id": "RYmLM95HVDkK"
      },
      "source": [
        "#data_e stores:1.filepath 2.bpm 3.danceability\n",
        "data_e=[]\n",
        "for e in english_wav_iter:\n",
        "  # Load audio via iter\n",
        "  audio = MonoLoader(filename=e)()\n",
        "  # Extract BPM\n",
        "  rhythm_extractor = RhythmExtractor2013(method=\"multifeature\")\n",
        "  bpm, beats, beats_confidence, _, beats_intervals = rhythm_extractor(audio)\n",
        "  # Calculate Dancebility measure\n",
        "  danceability, dfa = Danceability()(audio)\n",
        "\n",
        "  data_e.append([e,bpm,danceability])\n",
        "\n",
        "# initiate dataframe\n",
        "df_e = pd.DataFrame(data_e,columns=[\"filepath\", \"bpm\",\"danceability\"])"
      ],
      "execution_count": null,
      "outputs": []
    },
    {
      "cell_type": "code",
      "metadata": {
        "id": "BOeTjkltZEyh"
      },
      "source": [
        "# Only need to run once. Export English dataframe with data to csv.\n",
        "df_e.to_csv('bpm_english.csv')\n",
        "!cp bpm_english.csv \"/content/drive/MyDrive/Tinger/Code/BPM-Output/\""
      ],
      "execution_count": null,
      "outputs": []
    }
  ]
}