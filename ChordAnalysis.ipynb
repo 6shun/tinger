{
  "nbformat": 4,
  "nbformat_minor": 0,
  "metadata": {
    "colab": {
      "name": "ChordAnalysis.ipynb",
      "provenance": [],
      "collapsed_sections": [],
      "include_colab_link": true
    },
    "kernelspec": {
      "name": "python3",
      "display_name": "Python 3"
    },
    "language_info": {
      "name": "python"
    }
  },
  "cells": [
    {
      "cell_type": "markdown",
      "metadata": {
        "id": "view-in-github",
        "colab_type": "text"
      },
      "source": [
        "<a href=\"https://colab.research.google.com/github/rbqpark/tinger/blob/main/ChordAnalysis.ipynb\" target=\"_parent\"><img src=\"https://colab.research.google.com/assets/colab-badge.svg\" alt=\"Open In Colab\"/></a>"
      ]
    },
    {
      "cell_type": "markdown",
      "metadata": {
        "id": "Nbwsgsd9LeeU"
      },
      "source": [
        "#**Chord Analysis Code Process**\n",
        "1. Identify Chinese or English Song\n",
        "\n",
        "2. Select correct comparison language:\n",
        "```\n",
        "if song == chinese:\n",
        "      pd = playlist_english\n",
        "if song == english:\n",
        "      pd = palylist_chinese\n",
        "```\n",
        "\n",
        "3. Use function to generate another column, this new column calculates the difference between each chord (7 element list)\n",
        "\n",
        "4. Apply the Sequence Matcher code to calculate the similarity score to the input and every song in the database\n",
        "\n",
        "5. Get the max five and retrieve song titles (best matches)\n",
        "\n",
        "6. Output (and create graphs)\n"
      ]
    },
    {
      "cell_type": "code",
      "metadata": {
        "id": "WMwE3IitiMf_",
        "colab": {
          "base_uri": "https://localhost:8080/"
        },
        "outputId": "4e941255-b230-4364-af30-3c29894aec2b"
      },
      "source": [
        "from google.colab import drive\n",
        "drive.mount('/content/drive')"
      ],
      "execution_count": null,
      "outputs": [
        {
          "output_type": "stream",
          "text": [
            "Mounted at /content/drive\n"
          ],
          "name": "stdout"
        }
      ]
    },
    {
      "cell_type": "code",
      "metadata": {
        "id": "llzKgr3os4kH"
      },
      "source": [
        "import gspread\n",
        "import pandas as pd\n",
        "from google.colab import auth\n",
        "from oauth2client.client import GoogleCredentials\n",
        "\n",
        "auth.authenticate_user()\n",
        "gc = gspread.authorize(GoogleCredentials.get_application_default())"
      ],
      "execution_count": null,
      "outputs": []
    },
    {
      "cell_type": "code",
      "metadata": {
        "id": "pZXZkzsNtyic"
      },
      "source": [
        "import pandas as pd\n",
        "import numpy as np\n",
        "from sklearn.neighbors import KNeighborsClassifier"
      ],
      "execution_count": null,
      "outputs": []
    },
    {
      "cell_type": "code",
      "metadata": {
        "colab": {
          "base_uri": "https://localhost:8080/",
          "height": 204
        },
        "id": "XDIsttsWt1d9",
        "outputId": "eddfbec6-bb24-4995-8e7e-391769224642"
      },
      "source": [
        "# Path to CSV file. May need to change depending on user.\n",
        "path = '/content/drive/MyDrive/Tinger/Documentation/'"
      ],
      "execution_count": null,
      "outputs": [
        {
          "output_type": "execute_result",
          "data": {
            "text/html": [
              "<div>\n",
              "<style scoped>\n",
              "    .dataframe tbody tr th:only-of-type {\n",
              "        vertical-align: middle;\n",
              "    }\n",
              "\n",
              "    .dataframe tbody tr th {\n",
              "        vertical-align: top;\n",
              "    }\n",
              "\n",
              "    .dataframe thead th {\n",
              "        text-align: right;\n",
              "    }\n",
              "</style>\n",
              "<table border=\"1\" class=\"dataframe\">\n",
              "  <thead>\n",
              "    <tr style=\"text-align: right;\">\n",
              "      <th></th>\n",
              "      <th>Song Title</th>\n",
              "      <th>Artist</th>\n",
              "      <th>Main Chord Progression</th>\n",
              "    </tr>\n",
              "  </thead>\n",
              "  <tbody>\n",
              "    <tr>\n",
              "      <th>0</th>\n",
              "      <td>We Are Young</td>\n",
              "      <td>Fun</td>\n",
              "      <td>1,6,4,5,1,6,4,5</td>\n",
              "    </tr>\n",
              "    <tr>\n",
              "      <th>1</th>\n",
              "      <td>Save Your Tears</td>\n",
              "      <td>The Weeknd</td>\n",
              "      <td>2,6,4,4,1,6,3,5</td>\n",
              "    </tr>\n",
              "    <tr>\n",
              "      <th>2</th>\n",
              "      <td>Blinding Lights</td>\n",
              "      <td>The Weeknd</td>\n",
              "      <td>2,6,1,5,2,6,1,5</td>\n",
              "    </tr>\n",
              "    <tr>\n",
              "      <th>3</th>\n",
              "      <td>Rain on me</td>\n",
              "      <td>Lady Gaga, Ariana Grande</td>\n",
              "      <td>1,5,6,5,1,6,5,1</td>\n",
              "    </tr>\n",
              "    <tr>\n",
              "      <th>4</th>\n",
              "      <td>Intentions</td>\n",
              "      <td>Justin Bieber</td>\n",
              "      <td>1,1,6,4,6,4,1,1</td>\n",
              "    </tr>\n",
              "  </tbody>\n",
              "</table>\n",
              "</div>"
            ],
            "text/plain": [
              "        Song Title                    Artist Main Chord Progression\n",
              "0     We Are Young                       Fun       1,6,4,5,1,6,4,5 \n",
              "1  Save Your Tears                The Weeknd        2,6,4,4,1,6,3,5\n",
              "2  Blinding Lights                The Weeknd        2,6,1,5,2,6,1,5\n",
              "3       Rain on me  Lady Gaga, Ariana Grande        1,5,6,5,1,6,5,1\n",
              "4       Intentions             Justin Bieber        1,1,6,4,6,4,1,1"
            ]
          },
          "metadata": {
            "tags": []
          },
          "execution_count": 8
        }
      ]
    },
    {
      "cell_type": "code",
      "metadata": {
        "id": "2t3vfvvG6Bbq"
      },
      "source": [
        "##convert CSV data to dataframe, keeping only the three important columns we need\n",
        "english = pd.read_csv(path + 'Final Playlist Data (English).csv')\n",
        "english = english[['Song Title', 'Artist', 'Main Chord Progression']]\n",
        "\n",
        "##convert every entry of the \"Main Chord Progression\" column into a list of strings\n",
        "chord_progressions = english['Main Chord Progression']\n",
        "chord_list = chord_progressions.values.tolist()\n",
        "chord_list\n",
        "\n",
        "#convert the strings into individual lists, take the difference between each number on the list\n",
        "#in order to find the intervals of the songs. These intervals, from a musical standpoint, will \n",
        "#be very useful in helping us identify which songs are most similar (ex: Major 7ths, Perfect 5ths)\n",
        "empty_list = []\n",
        "for value in chord_list:\n",
        "    temp = list(map(int, value.split(',')))\n",
        "    empty_list.append([j-i for i, j in zip(temp[:-1], temp[1:])])\n",
        "\n",
        "english['Chord Difference'] = empty_list\n",
        "\n",
        "\n",
        "#START THE SAME PROCESS BUT FOR CHINESE SONGS\n",
        "#convert the mandarin songs to a dataframe\n",
        "mandarin = pd.read_csv(path + 'Final Playlist Data (Mandarin).csv')\n",
        "mandarin = mandarin[['Song Title', 'Artist', 'Main Chord Progression']]\n",
        "mandarin.head()\n",
        "##convert the series into a list of strings\n",
        "chord_progressions = mandarin['Main Chord Progression']\n",
        "chord_list_mandarin = chord_progressions.values.tolist()\n",
        "\n",
        "#convert the strings into individual lists, take the difference between each number on the list\n",
        "empty_list = []\n",
        "for value in chord_list_mandarin:\n",
        "    temp = list(map(int, value.split(',')))\n",
        "    empty_list.append([j-i for i, j in zip(temp[:-1], temp[1:])])\n",
        "\n",
        "mandarin['Chord Difference'] = empty_list"
      ],
      "execution_count": null,
      "outputs": []
    },
    {
      "cell_type": "code",
      "metadata": {
        "id": "gSpAj0UGl7Pv"
      },
      "source": [
        "#Sequence Matcher Function I will use to compare all lists to one another\n",
        "from difflib import SequenceMatcher\n",
        "\n",
        "def similar(a, b):\n",
        "    return SequenceMatcher(None, a, b).ratio()"
      ],
      "execution_count": null,
      "outputs": []
    },
    {
      "cell_type": "code",
      "metadata": {
        "id": "oc4PleeZK9Ls",
        "colab": {
          "base_uri": "https://localhost:8080/"
        },
        "outputId": "cc019e73-1d04-4cb8-d306-e0efbc0677e9"
      },
      "source": [
        "#HERE IS WHERE WE PUT THE INPUT\n",
        "#STITCHING ALL PIECES TOGETHER TO EXPORT THE 10 MOST SIMILAR SONGS AS A LIST\n",
        "import re\n",
        "input = 'Unpack Your Heart'\n",
        "for x in input[0]:\n",
        "    #retrieve chord progression and calculate the difference. then iterate through the entire column with the similar function\n",
        "    if re.search(u'[\\u4e00-\\u9fff]', x):\n",
        "      diff = mandarin.loc[mandarin['Song Title'] == input]['Chord Difference'].values[0]\n",
        "\n",
        "      english['score'] = english['Chord Difference'].map(lambda y: similar(y, diff))\n",
        "\n",
        "      english = english.sort_values('score', ascending = False)\n",
        "      print(english[['score', 'Song Title']].values[:10])\n",
        "    else:\n",
        "      diff = english.loc[english['Song Title'] == input]['Chord Difference'].values[0]\n",
        "\n",
        "      mandarin['score'] = mandarin['Chord Difference'].map(lambda y: similar(y, diff))\n",
        "\n",
        "      mandarin = mandarin.sort_values('score', ascending = False)\n",
        "      print(mandarin[['score', 'Song Title']].values[:10])"
      ],
      "execution_count": null,
      "outputs": [
        {
          "output_type": "stream",
          "text": [
            "[[0.7142857142857143 '浪子回頭']\n",
            " [0.7142857142857143 '伟大的渺小']\n",
            " [0.7142857142857143 '手写的从前']\n",
            " [0.7142857142857143 '兜圈']\n",
            " [0.7142857142857143 '别叫我达芬奇']\n",
            " [0.7142857142857143 '大碗宽面']\n",
            " [0.7142857142857143 '小步舞曲']\n",
            " [0.7142857142857143 '莉莉安']\n",
            " [0.5714285714285714 '下雨的夜晚']\n",
            " [0.5714285714285714 '麻雀']]\n"
          ],
          "name": "stdout"
        }
      ]
    },
    {
      "cell_type": "code",
      "metadata": {
        "colab": {
          "base_uri": "https://localhost:8080/",
          "height": 367
        },
        "id": "RkqBLabrGzAa",
        "outputId": "c34eab57-2825-475c-c637-2816f495765e"
      },
      "source": [
        "## Test graphs\n",
        "import re\n",
        "#input = \"We Don't Talk Anymore\"\n",
        "input = 'You Are The Reason'\n",
        "for x in input[0]:\n",
        "    #retrieve chord progression and calculate the difference. Iterate.\n",
        "      diff = english.loc[english['Song Title'] == input]['Chord Difference'].values[0]\n",
        "      english['score'] = english['Chord Difference'].map(lambda y: similar(y, diff))\n",
        "      english = english.sort_values('score', ascending = False)\n",
        "      for_graph = english[['score', 'Song Title']].head(5)\n",
        "      for_graph.plot.bar(x='Song Title')"
      ],
      "execution_count": null,
      "outputs": [
        {
          "output_type": "display_data",
          "data": {
            "image/png": "[encoded data removed]",
            "text/plain": [
              "<Figure size 432x288 with 1 Axes>"
            ]
          },
          "metadata": {
            "tags": [],
            "needs_background": "light"
          }
        }
      ]
    },
    {
      "cell_type": "code",
      "metadata": {
        "id": "D43TMO1mm42p",
        "colab": {
          "base_uri": "https://localhost:8080/",
          "height": 244
        },
        "outputId": "488314ae-d32e-405e-ca30-fbf0eb772b2b"
      },
      "source": [
        "import re\n",
        "input = '因为你所以我'\n",
        "for x in input[0]:\n",
        "    #retrieve chord progression and calculate the difference. then iterate through the entire column with the similar function\n",
        "      diff = mandarin.loc[mandarin['Song Title'] == input]['Chord Difference'].values[0]\n",
        "\n",
        "      mandarin['score'] = mandarin['Chord Difference'].map(lambda y: similar(y, diff))\n",
        "\n",
        "      mandarin = mandarin.sort_values('score', ascending = False)\n",
        "      for_graph = mandarin[['score', 'Song Title']].head(10)\n",
        "      for_graph.plot.bar()\n",
        "      print(for_graph)"
      ],
      "execution_count": null,
      "outputs": [
        {
          "output_type": "error",
          "ename": "NameError",
          "evalue": "ignored",
          "traceback": [
            "\u001b[0;31m---------------------------------------------------------------------------\u001b[0m",
            "\u001b[0;31mNameError\u001b[0m                                 Traceback (most recent call last)",
            "\u001b[0;32m<ipython-input-1-605d8f2a5346>\u001b[0m in \u001b[0;36m<module>\u001b[0;34m()\u001b[0m\n\u001b[1;32m      3\u001b[0m \u001b[0;32mfor\u001b[0m \u001b[0mx\u001b[0m \u001b[0;32min\u001b[0m \u001b[0minput\u001b[0m\u001b[0;34m[\u001b[0m\u001b[0;36m0\u001b[0m\u001b[0;34m]\u001b[0m\u001b[0;34m:\u001b[0m\u001b[0;34m\u001b[0m\u001b[0;34m\u001b[0m\u001b[0m\n\u001b[1;32m      4\u001b[0m     \u001b[0;31m#retrieve chord progression and calculate the difference. then iterate through the entire column with the similar function\u001b[0m\u001b[0;34m\u001b[0m\u001b[0;34m\u001b[0m\u001b[0;34m\u001b[0m\u001b[0m\n\u001b[0;32m----> 5\u001b[0;31m       \u001b[0mdiff\u001b[0m \u001b[0;34m=\u001b[0m \u001b[0mmandarin\u001b[0m\u001b[0;34m.\u001b[0m\u001b[0mloc\u001b[0m\u001b[0;34m[\u001b[0m\u001b[0mmandarin\u001b[0m\u001b[0;34m[\u001b[0m\u001b[0;34m'Song Title'\u001b[0m\u001b[0;34m]\u001b[0m \u001b[0;34m==\u001b[0m \u001b[0minput\u001b[0m\u001b[0;34m]\u001b[0m\u001b[0;34m[\u001b[0m\u001b[0;34m'Chord Difference'\u001b[0m\u001b[0;34m]\u001b[0m\u001b[0;34m.\u001b[0m\u001b[0mvalues\u001b[0m\u001b[0;34m[\u001b[0m\u001b[0;36m0\u001b[0m\u001b[0;34m]\u001b[0m\u001b[0;34m\u001b[0m\u001b[0;34m\u001b[0m\u001b[0m\n\u001b[0m\u001b[1;32m      6\u001b[0m \u001b[0;34m\u001b[0m\u001b[0m\n\u001b[1;32m      7\u001b[0m       \u001b[0mmandarin\u001b[0m\u001b[0;34m[\u001b[0m\u001b[0;34m'score'\u001b[0m\u001b[0;34m]\u001b[0m \u001b[0;34m=\u001b[0m \u001b[0mmandarin\u001b[0m\u001b[0;34m[\u001b[0m\u001b[0;34m'Chord Difference'\u001b[0m\u001b[0;34m]\u001b[0m\u001b[0;34m.\u001b[0m\u001b[0mmap\u001b[0m\u001b[0;34m(\u001b[0m\u001b[0;32mlambda\u001b[0m \u001b[0my\u001b[0m\u001b[0;34m:\u001b[0m \u001b[0msimilar\u001b[0m\u001b[0;34m(\u001b[0m\u001b[0my\u001b[0m\u001b[0;34m,\u001b[0m \u001b[0mdiff\u001b[0m\u001b[0;34m)\u001b[0m\u001b[0;34m)\u001b[0m\u001b[0;34m\u001b[0m\u001b[0;34m\u001b[0m\u001b[0m\n",
            "\u001b[0;31mNameError\u001b[0m: name 'mandarin' is not defined"
          ]
        }
      ]
    },
    {
      "cell_type": "code",
      "metadata": {
        "id": "wE-Om4GKsgfa"
      },
      "source": [
        ""
      ],
      "execution_count": null,
      "outputs": []
    }
  ]
}