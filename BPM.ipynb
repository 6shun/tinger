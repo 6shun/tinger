{
  "nbformat": 4,
  "nbformat_minor": 0,
  "metadata": {
    "colab": {
      "name": "BPM.ipynb",
      "provenance": [],
      "collapsed_sections": [
        "d-D-Jm0DRTSr",
        "ALgdT90yRXgj",
        "LuUtJs5XdVkd",
        "6iPU6mOVRhlb",
        "2O02Qr1QRnRg"
      ],
      "include_colab_link": true
    },
    "kernelspec": {
      "name": "python3",
      "display_name": "Python 3"
    }
  },
  "cells": [
    {
      "cell_type": "markdown",
      "metadata": {
        "id": "view-in-github",
        "colab_type": "text"
      },
      "source": [
        "<a href=\"https://colab.research.google.com/github/rbqpark/tinger/blob/main/BPM.ipynb\" target=\"_parent\"><img src=\"https://colab.research.google.com/assets/colab-badge.svg\" alt=\"Open In Colab\"/></a>"
      ]
    },
    {
      "cell_type": "markdown",
      "metadata": {
        "id": "d-D-Jm0DRTSr"
      },
      "source": [
        "### Import libraries and other dependencies"
      ]
    },
    {
      "cell_type": "code",
      "metadata": {
        "id": "HqVEC5VmOxOf",
        "colab": {
          "base_uri": "https://localhost:8080/"
        },
        "outputId": "aa0566a0-78bb-483f-ca58-12411ec9ed69"
      },
      "source": [
        "# Mount Google Drive\n",
        "from google.colab import drive\n",
        "drive.mount('/content/drive')"
      ],
      "execution_count": null,
      "outputs": [
        {
          "output_type": "stream",
          "text": [
            "Mounted at /content/drive\n"
          ],
          "name": "stdout"
        }
      ]
    },
    {
      "cell_type": "code",
      "metadata": {
        "id": "JqwjybooVZAo",
        "colab": {
          "base_uri": "https://localhost:8080/",
          "height": 52
        },
        "outputId": "a40f01b9-cff5-481d-a4d3-4677ae8303f8"
      },
      "source": [
        "'''\n",
        "# Import Google Sheet. Not needed once dataframe is generated\n",
        "from google.colab import auth\n",
        "auth.authenticate_user()\n",
        "import gspread\n",
        "from oauth2client.client import GoogleCredentials\n",
        "gc = gspread.authorize(GoogleCredentials.get_application_default())\n",
        "'''"
      ],
      "execution_count": null,
      "outputs": [
        {
          "output_type": "execute_result",
          "data": {
            "application/vnd.google.colaboratory.intrinsic+json": {
              "type": "string"
            },
            "text/plain": [
              "'\\n# Import Google Sheet. Not needed once dataframe is generated\\nfrom google.colab import auth\\nauth.authenticate_user()\\nimport gspread\\nfrom oauth2client.client import GoogleCredentials\\ngc = gspread.authorize(GoogleCredentials.get_application_default())\\n'"
            ]
          },
          "metadata": {
            "tags": []
          },
          "execution_count": 8
        }
      ]
    },
    {
      "cell_type": "code",
      "metadata": {
        "id": "v6Bq3c8ACw66",
        "colab": {
          "base_uri": "https://localhost:8080/"
        },
        "outputId": "f5b24939-cd19-4bb7-8708-245644b01592"
      },
      "source": [
        "# Install essentia library\n",
        "%pip install essentia"
      ],
      "execution_count": null,
      "outputs": [
        {
          "output_type": "stream",
          "text": [
            "Requirement already satisfied: essentia in /usr/local/lib/python3.7/dist-packages (2.1b6.dev374)\n",
            "Requirement already satisfied: numpy>=1.8.2 in /usr/local/lib/python3.7/dist-packages (from essentia) (1.19.5)\n",
            "Requirement already satisfied: six in /usr/local/lib/python3.7/dist-packages (from essentia) (1.15.0)\n",
            "Requirement already satisfied: pyyaml in /usr/local/lib/python3.7/dist-packages (from essentia) (3.13)\n"
          ],
          "name": "stdout"
        }
      ]
    },
    {
      "cell_type": "code",
      "metadata": {
        "id": "wbIjs3E48M3Z",
        "colab": {
          "base_uri": "https://localhost:8080/",
          "height": 34
        },
        "outputId": "9c431d70-9963-446d-8449-0b810dfbac02"
      },
      "source": [
        "# Install all other dependencies\n",
        "import glob # for iteratives\n",
        "import numpy as np\n",
        "import pandas as pd\n",
        "import matplotlib.pyplot as plt\n",
        "\n",
        "# Essetntia Library\n",
        "from essentia.standard import *\n",
        "import essentia.standard as estd\n",
        "import essentia.streaming as ess\n",
        "\n",
        "'''\n",
        "# Plotting hpcpgram, did not implemented\n",
        "from essentia.pytools.spectral import hpcpgram\n",
        "from pylab import plot, show, figure, imshow\n",
        "'''"
      ],
      "execution_count": null,
      "outputs": [
        {
          "output_type": "execute_result",
          "data": {
            "application/vnd.google.colaboratory.intrinsic+json": {
              "type": "string"
            },
            "text/plain": [
              "'\\n# Plotting hpcpgram, did not implemented\\nfrom essentia.pytools.spectral import hpcpgram\\nfrom pylab import plot, show, figure, imshow\\n'"
            ]
          },
          "metadata": {
            "tags": []
          },
          "execution_count": 9
        }
      ]
    },
    {
      "cell_type": "markdown",
      "metadata": {
        "id": "ALgdT90yRXgj"
      },
      "source": [
        "### Specify Path & Iterators"
      ]
    },
    {
      "cell_type": "code",
      "metadata": {
        "id": "-Ag0j4w8zvaD"
      },
      "source": [
        "# Specify download paths\n",
        "mandarin_wav_path = '/content/drive/My Drive/Tinger/Code/Audio/Audio_Mandarin/'\n",
        "english_wav_path = '/content/drive/My Drive/Tinger/Code/Audio/Audio_English/'\n",
        "\n",
        "mandarin_save_path = '/content/drive/My Drive/Tinger/Code/BPM-Output/BPM_Mandarin/'\n",
        "english_save_path = '/content/drive/My Drive/Tinger/Code/BPM-Output/BPM_English/'"
      ],
      "execution_count": null,
      "outputs": []
    },
    {
      "cell_type": "code",
      "metadata": {
        "id": "oVDmK-I7heQL"
      },
      "source": [
        "# Get file names as an iterator\n",
        "mandarin_wav_iter = glob.iglob(mandarin_wav_path + '*.wav', recursive=True)\n",
        "english_wav_iter = glob.iglob(english_wav_path + '*.wav', recursive=True)"
      ],
      "execution_count": null,
      "outputs": []
    },
    {
      "cell_type": "markdown",
      "metadata": {
        "id": "LuUtJs5XdVkd"
      },
      "source": [
        "### Take in audio data and extract BPM and Danceability measures"
      ]
    },
    {
      "cell_type": "code",
      "metadata": {
        "colab": {
          "base_uri": "https://localhost:8080/",
          "height": 234
        },
        "id": "xricbBv1dTl3",
        "outputId": "44313c42-03f6-4a6e-f0d9-c0b850f77161"
      },
      "source": [
        "# Input: filepath\n",
        "audio = MonoLoader(filename=filepath)()\n",
        "# Load audio via iter\n",
        "audio = MonoLoader(filename=filepath)()\n",
        "# BPM\n",
        "rhythm_extractor = RhythmExtractor2013(method=\"multifeature\")\n",
        "bpm, beats, beats_confidence, _, beats_intervals = rhythm_extractor(audio)\n",
        "# Dancebility\n",
        "danceability, dfa = Danceability()(audio)\n"
      ],
      "execution_count": null,
      "outputs": [
        {
          "output_type": "error",
          "ename": "NameError",
          "evalue": "ignored",
          "traceback": [
            "\u001b[0;31m---------------------------------------------------------------------------\u001b[0m",
            "\u001b[0;31mNameError\u001b[0m                                 Traceback (most recent call last)",
            "\u001b[0;32m<ipython-input-6-2b18eacf50d3>\u001b[0m in \u001b[0;36m<module>\u001b[0;34m()\u001b[0m\n\u001b[1;32m      1\u001b[0m \u001b[0;31m# Input: filepath\u001b[0m\u001b[0;34m\u001b[0m\u001b[0;34m\u001b[0m\u001b[0;34m\u001b[0m\u001b[0m\n\u001b[0;32m----> 2\u001b[0;31m \u001b[0maudio\u001b[0m \u001b[0;34m=\u001b[0m \u001b[0mMonoLoader\u001b[0m\u001b[0;34m(\u001b[0m\u001b[0mfilename\u001b[0m\u001b[0;34m=\u001b[0m\u001b[0mfilepath\u001b[0m\u001b[0;34m)\u001b[0m\u001b[0;34m(\u001b[0m\u001b[0;34m)\u001b[0m\u001b[0;34m\u001b[0m\u001b[0;34m\u001b[0m\u001b[0m\n\u001b[0m\u001b[1;32m      3\u001b[0m \u001b[0;31m# Load autio via iter\u001b[0m\u001b[0;34m\u001b[0m\u001b[0;34m\u001b[0m\u001b[0;34m\u001b[0m\u001b[0m\n\u001b[1;32m      4\u001b[0m \u001b[0maudio\u001b[0m \u001b[0;34m=\u001b[0m \u001b[0mMonoLoader\u001b[0m\u001b[0;34m(\u001b[0m\u001b[0mfilename\u001b[0m\u001b[0;34m=\u001b[0m\u001b[0mfilepath\u001b[0m\u001b[0;34m)\u001b[0m\u001b[0;34m(\u001b[0m\u001b[0;34m)\u001b[0m\u001b[0;34m\u001b[0m\u001b[0;34m\u001b[0m\u001b[0m\n\u001b[1;32m      5\u001b[0m \u001b[0;31m# BPM\u001b[0m\u001b[0;34m\u001b[0m\u001b[0;34m\u001b[0m\u001b[0;34m\u001b[0m\u001b[0m\n",
            "\u001b[0;31mNameError\u001b[0m: name 'filepath' is not defined"
          ]
        }
      ]
    },
    {
      "cell_type": "markdown",
      "metadata": {
        "id": "6iPU6mOVRhlb"
      },
      "source": [
        "### BPM, Dancebility output for Mandarin songs. Export dataframe into Tinger Google Drive database.\n",
        "\n"
      ]
    },
    {
      "cell_type": "code",
      "metadata": {
        "id": "bsD5ewa1BGRX"
      },
      "source": [
        "#data_m stores:1.filepath 2.bpm 3.danceability\n",
        "data_m=[]\n",
        "for m in mandarin_wav_iter:\n",
        "  # Load autio via iter\n",
        "  audio = MonoLoader(filename=m)()\n",
        "  # BPM\n",
        "  rhythm_extractor = RhythmExtractor2013(method=\"multifeature\")\n",
        "  bpm, beats, beats_confidence, _, beats_intervals = rhythm_extractor(audio)\n",
        "  # Dancebility\n",
        "  danceability, dfa = Danceability()(audio)\n",
        "\n",
        "  data_m.append([m,bpm,danceability])\n",
        "\n",
        "# initiate dataframe\n",
        "df_m = pd.DataFrame(data_m,columns=[\"filepath\", \"bpm\",\"danceability\"])"
      ],
      "execution_count": null,
      "outputs": []
    },
    {
      "cell_type": "code",
      "metadata": {
        "id": "wJKXVe46BGWu"
      },
      "source": [
        "# Only need to run once. Export Mandarin dataframe with data to csv.\n",
        "df_m.to_csv('bpm_mandarin.csv')\n",
        "!cp bpm_mandarin.csv \"/content/drive/MyDrive/Tinger/Code/BPM-Output/\""
      ],
      "execution_count": null,
      "outputs": []
    },
    {
      "cell_type": "markdown",
      "metadata": {
        "id": "2O02Qr1QRnRg"
      },
      "source": [
        "### BPM, Danceability output for English songs. Export dataframe into Tinger Google Drive database."
      ]
    },
    {
      "cell_type": "code",
      "metadata": {
        "id": "RYmLM95HVDkK"
      },
      "source": [
        "#data_e stores:1.filepath 2.bpm 3.danceability\n",
        "data_e=[]\n",
        "for e in english_wav_iter:\n",
        "  # Load audio via iter\n",
        "  audio = MonoLoader(filename=e)()\n",
        "  # Extract BPM\n",
        "  rhythm_extractor = RhythmExtractor2013(method=\"multifeature\")\n",
        "  bpm, beats, beats_confidence, _, beats_intervals = rhythm_extractor(audio)\n",
        "  # Calculate Dancebility measure\n",
        "  danceability, dfa = Danceability()(audio)\n",
        "\n",
        "  data_e.append([e,bpm,danceability])\n",
        "\n",
        "# initiate dataframe\n",
        "df_e = pd.DataFrame(data_e,columns=[\"filepath\", \"bpm\",\"danceability\"])"
      ],
      "execution_count": null,
      "outputs": []
    },
    {
      "cell_type": "code",
      "metadata": {
        "id": "BOeTjkltZEyh"
      },
      "source": [
        "# Only need to run once. Export English dataframe with data to csv.\n",
        "df_e.to_csv('bpm_english.csv')\n",
        "!cp bpm_english.csv \"/content/drive/MyDrive/Tinger/Code/BPM-Output/\""
      ],
      "execution_count": null,
      "outputs": []
    }
  ]
}