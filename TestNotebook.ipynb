{
  "nbformat": 4,
  "nbformat_minor": 0,
  "metadata": {
    "colab": {
      "name": "TestNotebook.ipynb",
      "provenance": [],
      "collapsed_sections": [],
      "authorship_tag": "ABX9TyNmQdcLz+fBtk0UmPKygUKi",
      "include_colab_link": true
    },
    "kernelspec": {
      "name": "python3",
      "display_name": "Python 3"
    }
  },
  "cells": [
    {
      "cell_type": "markdown",
      "metadata": {
        "id": "view-in-github",
        "colab_type": "text"
      },
      "source": [
        "<a href=\"https://colab.research.google.com/github/rbqpark/tinger/blob/main/TestNotebook.ipynb\" target=\"_parent\"><img src=\"https://colab.research.google.com/assets/colab-badge.svg\" alt=\"Open In Colab\"/></a>"
      ]
    },
    {
      "cell_type": "markdown",
      "metadata": {
        "id": "KazUpslTC0bR"
      },
      "source": [
        "**Creating a test notebook to test saving onto our team github repo:** https://github.com/rbqpark/tinger\n",
        "\n",
        "How to save: \n",
        "1. \"File\" >> \"Save\"\n",
        "2. \"File\" >> \"Save a copy in Github\"\n",
        "3. If permission not yet granted, give authorization"
      ]
    },
    {
      "cell_type": "code",
      "metadata": {
        "colab": {
          "base_uri": "https://localhost:8080/"
        },
        "id": "v6Bq3c8ACw66",
        "outputId": "5dcc8ee1-073a-483e-c173-d3c407c83aef"
      },
      "source": [
        "def helloWorld(n: int):\n",
        "  i = 0\n",
        "  while (i < n):\n",
        "    print(\"Hello World!\")\n",
        "    i +=1\n",
        "  return\n",
        "\n",
        "helloWorld(5)"
      ],
      "execution_count": null,
      "outputs": [
        {
          "output_type": "stream",
          "text": [
            "Hello World!\n",
            "Hello World!\n",
            "Hello World!\n",
            "Hello World!\n",
            "Hello World!\n"
          ],
          "name": "stdout"
        }
      ]
    },
    {
      "cell_type": "code",
      "metadata": {
        "id": "-Ag0j4w8zvaD"
      },
      "source": [
        ""
      ],
      "execution_count": null,
      "outputs": []
    }
  ]
}