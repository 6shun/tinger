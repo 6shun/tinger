{
  "nbformat": 4,
  "nbformat_minor": 0,
  "metadata": {
    "colab": {
      "name": "AudioPreprocessing.ipynb",
      "provenance": [],
      "collapsed_sections": [],
      "mount_file_id": "1LDS0mJOlDEFcOgS81kc4y6171zFPG9BH",
      "authorship_tag": "ABX9TyNIZhSH/zZpSGS3EDvzeWCy",
      "include_colab_link": true
    },
    "kernelspec": {
      "name": "python3",
      "display_name": "Python 3"
    }
  },
  "cells": [
    {
      "cell_type": "markdown",
      "metadata": {
        "id": "view-in-github",
        "colab_type": "text"
      },
      "source": [
        "<a href=\"https://colab.research.google.com/github/rbqpark/tinger/blob/main/AudioPreprocessing.ipynb\" target=\"_parent\"><img src=\"https://colab.research.google.com/assets/colab-badge.svg\" alt=\"Open In Colab\"/></a>"
      ]
    },
    {
      "cell_type": "markdown",
      "metadata": {
        "id": "KazUpslTC0bR"
      },
      "source": [
        "# **Preprocess audio files:** \n",
        "\n",
        "**Convert RAW MP3 audio files into WAV files. Split them into 15s slices in preparation to create mel spectrograms. Save into our Tinger Google Drive database.**\n",
        "\n",
        "---\n",
        "\n",
        "\n",
        "Code research links: \n",
        "pydub: https://stackoverflow.com/questions/15311853/plot-spectogram-from-mp3\n",
        "\n",
        "directory search: https://stackoverflow.com/questions/22255344/is-this-an-efficient-way-of-listing-all-mp3-files-inside-in-a-directory-includ\n",
        "\n",
        "glob: https://www.kite.com/python/docs/glob.iglob\n"
      ]
    },
    {
      "cell_type": "code",
      "metadata": {
        "colab": {
          "base_uri": "https://localhost:8080/"
        },
        "id": "iLIErpZrWZwx",
        "outputId": "f33db95a-5d7c-47d2-bfd6-7d225da084b1"
      },
      "source": [
        "from google.colab import drive\n",
        "drive.mount('/content/drive')"
      ],
      "execution_count": null,
      "outputs": [
        {
          "output_type": "stream",
          "text": [
            "Drive already mounted at /content/drive; to attempt to forcibly remount, call drive.mount(\"/content/drive\", force_remount=True).\n"
          ],
          "name": "stdout"
        }
      ]
    },
    {
      "cell_type": "code",
      "metadata": {
        "id": "v6Bq3c8ACw66",
        "colab": {
          "base_uri": "https://localhost:8080/"
        },
        "outputId": "2e47edb7-5665-4d81-b417-b6c9a18fd41a"
      },
      "source": [
        "# Install libraries not local to Colab\n",
        "%pip install pydub\n",
        "%pip install ffmpeg"
      ],
      "execution_count": null,
      "outputs": [
        {
          "output_type": "stream",
          "text": [
            "Collecting pydub\n",
            "  Downloading https://files.pythonhosted.org/packages/a6/53/d78dc063216e62fc55f6b2eebb447f6a4b0a59f55c8406376f76bf959b08/pydub-0.25.1-py2.py3-none-any.whl\n",
            "Installing collected packages: pydub\n",
            "Successfully installed pydub-0.25.1\n",
            "Collecting ffmpeg\n",
            "  Downloading https://files.pythonhosted.org/packages/f0/cc/3b7408b8ecf7c1d20ad480c3eaed7619857bf1054b690226e906fdf14258/ffmpeg-1.4.tar.gz\n",
            "Building wheels for collected packages: ffmpeg\n",
            "  Building wheel for ffmpeg (setup.py) ... \u001b[?25l\u001b[?25hdone\n",
            "  Created wheel for ffmpeg: filename=ffmpeg-1.4-cp37-none-any.whl size=6083 sha256=5e32ae8dd457c8ee088f6f6b96943af16a17ca70e3db5ed07e8d001ee2f65d13\n",
            "  Stored in directory: /root/.cache/pip/wheels/b6/68/c3/a05a35f647ba871e5572b9bbfc0b95fd1c6637a2219f959e7a\n",
            "Successfully built ffmpeg\n",
            "Installing collected packages: ffmpeg\n",
            "Successfully installed ffmpeg-1.4\n"
          ],
          "name": "stdout"
        }
      ]
    },
    {
      "cell_type": "code",
      "metadata": {
        "id": "9kfGdDhO9CW0"
      },
      "source": [
        "# Install all other dependencies\n",
        "import os\n",
        "import glob\n",
        "from pydub import AudioSegment\n",
        "from scipy.io import wavfile\n",
        "from tempfile import mktemp\n",
        "from __future__ import unicode_literals\n"
      ],
      "execution_count": null,
      "outputs": []
    },
    {
      "cell_type": "code",
      "metadata": {
        "id": "HLDreTY_835a"
      },
      "source": [
        "# Specify download paths\n",
        "mandarin_save_path = '/content/drive/My Drive/Tinger/Code/Audio/Audio_Mandarin/'\n",
        "english_save_path = '/content/drive/My Drive/Tinger/Code/Audio/Audio_English/'"
      ],
      "execution_count": null,
      "outputs": []
    },
    {
      "cell_type": "code",
      "metadata": {
        "id": "1zdMNzOpAudh"
      },
      "source": [
        "# Get file names as an iterator\n",
        "mandarin_mp3_iter = glob.iglob(mandarin_save_path + '*.mp3', recursive=True)\n",
        "english_mp3_iter = glob.iglob(english_save_path + '*.mp3', recursive=True)"
      ],
      "execution_count": null,
      "outputs": []
    },
    {
      "cell_type": "code",
      "metadata": {
        "id": "lbupVOwgEy7-"
      },
      "source": [
        "# Preprocessing for Mandarin songs\n",
        "for m in mandarin_mp3_iter:\n",
        "  i = 0\n",
        "  t1 = 60000\n",
        "  while i <= 4:\n",
        "    # Read MP3 file >> create a temp file >> then covert to wav\n",
        "    wav_path = m[:-4]+ '-' + str(i) + '.wav'\n",
        "    AudioSegment.from_file(m, format='mp3').export(wav_path, format='wav')\n",
        "    m_wav = AudioSegment.from_wav(wav_path)\n",
        "\n",
        "    # Convert stereo wav file to mono\n",
        "    m_wav = m_wav.set_channels(1)\n",
        "\n",
        "    # Clip wav file to make 15 second snippets\n",
        "    t1 = t1\n",
        "    t2 = t1 + 15000\n",
        "    m_wav = m_wav[t1:t2]\n",
        "\n",
        "    # Re-export as wav file\n",
        "    m_wav.export(wav_path, format=\"wav\")\n",
        "\n",
        "    t1 += 15000\n",
        "    i += 1"
      ],
      "execution_count": null,
      "outputs": []
    },
    {
      "cell_type": "code",
      "metadata": {
        "id": "HOpKZXTuQyk_"
      },
      "source": [
        "# Preprocessing for English songs\n",
        "for e in english_mp3_iter:\n",
        "  i = 0\n",
        "  t1 = 60000\n",
        "  while i <= 4:\n",
        "    # Read MP3 file >> create a temp file >> then covert to wav\n",
        "    wav_path = e[:-4]+ '-' + str(i) + '.wav'\n",
        "    AudioSegment.from_file(e, format='mp3').export(wav_path, format='wav')\n",
        "    e_wav = AudioSegment.from_wav(wav_path)\n",
        "\n",
        "    # Convert stereo wav file to mono\n",
        "    e_wav = e_wav.set_channels(1)\n",
        "\n",
        "    # Clip wav file to make 15 second snippets\n",
        "    t1 = t1\n",
        "    t2 = t1 + 15000\n",
        "    e_wav = e_wav[t1:t2]\n",
        "\n",
        "    # Re-export as wav file\n",
        "    e_wav.export(wav_path, format=\"wav\")\n",
        "\n",
        "    t1 += 15000\n",
        "    i += 1"
      ],
      "execution_count": null,
      "outputs": []
    }
  ]
}