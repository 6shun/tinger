{
  "nbformat": 4,
  "nbformat_minor": 0,
  "metadata": {
    "kernelspec": {
      "display_name": "Python 3",
      "language": "python",
      "name": "python3"
    },
    "language_info": {
      "codemirror_mode": {
        "name": "ipython",
        "version": 3
      },
      "file_extension": ".py",
      "mimetype": "text/x-python",
      "name": "python",
      "nbconvert_exporter": "python",
      "pygments_lexer": "ipython3",
      "version": "3.8.6"
    },
    "colab": {
      "name": "KNNMetadata.ipynb",
      "provenance": [],
      "collapsed_sections": [],
      "include_colab_link": true
    }
  },
  "cells": [
    {
      "cell_type": "markdown",
      "metadata": {
        "id": "view-in-github",
        "colab_type": "text"
      },
      "source": [
        "<a href=\"https://colab.research.google.com/github/rbqpark/tinger/blob/main/KNNMetadata.ipynb\" target=\"_parent\"><img src=\"https://colab.research.google.com/assets/colab-badge.svg\" alt=\"Open In Colab\"/></a>"
      ]
    },
    {
      "cell_type": "markdown",
      "metadata": {
        "id": "JG5z12xUPuG1"
      },
      "source": [
        "#**K-Nearest Neighbors Classifier experiment with Metadata only**#"
      ]
    },
    {
      "cell_type": "markdown",
      "metadata": {
        "id": "7I_uP2MWzk9g"
      },
      "source": [
        "---\n",
        "#1. Mount Google Drive and get authentication from Google SDK#\n",
        "\n",
        "This step includes mounting the Google Drive and receiving authentication via Google SDK to gain access to our database and custom libraries."
      ]
    },
    {
      "cell_type": "code",
      "metadata": {
        "id": "WBk1b1qvhHAD",
        "colab": {
          "base_uri": "https://localhost:8080/"
        },
        "outputId": "7c47ae30-2585-4102-91af-bdffa7dec8c8"
      },
      "source": [
        "from google.colab import drive\n",
        "drive.mount('/content/drive')"
      ],
      "execution_count": null,
      "outputs": [
        {
          "output_type": "stream",
          "text": [
            "Drive already mounted at /content/drive; to attempt to forcibly remount, call drive.mount(\"/content/drive\", force_remount=True).\n"
          ],
          "name": "stdout"
        }
      ]
    },
    {
      "cell_type": "markdown",
      "metadata": {
        "id": "PRyWoxUgz0gD"
      },
      "source": [
        "------------------------------------------\n",
        "#**2. Install and import all dependencies**#"
      ]
    },
    {
      "cell_type": "code",
      "metadata": {
        "id": "h9-5Ek7gd2m0"
      },
      "source": [
        "#@title\n",
        "import pandas as pd\n",
        "import numpy as np\n",
        "from sklearn.neighbors import KNeighborsClassifier"
      ],
      "execution_count": null,
      "outputs": []
    },
    {
      "cell_type": "markdown",
      "metadata": {
        "id": "YCqxLuxn1Hl-"
      },
      "source": [
        "------------------------------------------\n",
        "#**3. Import and clean data**#"
      ]
    },
    {
      "cell_type": "code",
      "metadata": {
        "id": "iI7_xG2bd2m_",
        "colab": {
          "base_uri": "https://localhost:8080/",
          "height": 374
        },
        "outputId": "325c0464-5028-41c4-f0a7-23d3610a441f"
      },
      "source": [
        "path = '/content/drive/My Drive/Tinger/Documentation/'\n",
        "\n",
        "mandarin = pd.read_csv(path + 'Final Playlist Data (Mandarin).csv')\n",
        "mandarin = mandarin.drop(columns=['Length of Song', 'Length in Seconds'])\n",
        "mandarin.head()"
      ],
      "execution_count": null,
      "outputs": [
        {
          "output_type": "execute_result",
          "data": {
            "text/html": [
              "<div>\n",
              "<style scoped>\n",
              "    .dataframe tbody tr th:only-of-type {\n",
              "        vertical-align: middle;\n",
              "    }\n",
              "\n",
              "    .dataframe tbody tr th {\n",
              "        vertical-align: top;\n",
              "    }\n",
              "\n",
              "    .dataframe thead th {\n",
              "        text-align: right;\n",
              "    }\n",
              "</style>\n",
              "<table border=\"1\" class=\"dataframe\">\n",
              "  <thead>\n",
              "    <tr style=\"text-align: right;\">\n",
              "      <th></th>\n",
              "      <th>Song Title</th>\n",
              "      <th>Artist</th>\n",
              "      <th>Male0 / Female1/Other3</th>\n",
              "      <th>Publish Year</th>\n",
              "      <th>Solo0 / Group1</th>\n",
              "      <th>Main Chord Progression</th>\n",
              "      <th>Romance</th>\n",
              "      <th>Lyrics</th>\n",
              "      <th>Translated Lyrics</th>\n",
              "      <th>bpm</th>\n",
              "      <th>danceability</th>\n",
              "    </tr>\n",
              "  </thead>\n",
              "  <tbody>\n",
              "    <tr>\n",
              "      <th>0</th>\n",
              "      <td>我很快乐</td>\n",
              "      <td>周兴哲</td>\n",
              "      <td>0</td>\n",
              "      <td>2020</td>\n",
              "      <td>0</td>\n",
              "      <td>1,5,6,3,4,5,3,6</td>\n",
              "      <td>0.0</td>\n",
              "      <td>雷雨依舊 奔跑著 世界像你 模糊停格 總以為能 永遠愛著 時間 卻幫我們上了一課 路 無法倒...</td>\n",
              "      <td>Rain still run the world like you always think...</td>\n",
              "      <td>74.402031</td>\n",
              "      <td>1.065184</td>\n",
              "    </tr>\n",
              "    <tr>\n",
              "      <th>1</th>\n",
              "      <td>过</td>\n",
              "      <td>林俊杰，王嘉尔</td>\n",
              "      <td>0</td>\n",
              "      <td>2020</td>\n",
              "      <td>0</td>\n",
              "      <td>1,7,4,1,6,3,2,5</td>\n",
              "      <td>0.0</td>\n",
              "      <td>回不去 的路口 oh oh 像過敏 紮了根 oh oh 我想起 某個人 oh oh 在我心中...</td>\n",
              "      <td>Go back through the intersection like oh oh oh...</td>\n",
              "      <td>128.099670</td>\n",
              "      <td>1.161731</td>\n",
              "    </tr>\n",
              "    <tr>\n",
              "      <th>2</th>\n",
              "      <td>因为你所以我</td>\n",
              "      <td>五月天</td>\n",
              "      <td>0</td>\n",
              "      <td>2020</td>\n",
              "      <td>1</td>\n",
              "      <td>1,1,6,6,4,4,5,1</td>\n",
              "      <td>1.0</td>\n",
              "      <td>人群 煙火 香檳和氣球 是你 帶我 從派對逃走 逃離 人間 耳語和騷動 這裏 只有 你我和星...</td>\n",
              "      <td>Crowd fireworks champagne and balloons are you...</td>\n",
              "      <td>NaN</td>\n",
              "      <td>NaN</td>\n",
              "    </tr>\n",
              "    <tr>\n",
              "      <th>3</th>\n",
              "      <td>很久以后</td>\n",
              "      <td>邓紫棋</td>\n",
              "      <td>1</td>\n",
              "      <td>2020</td>\n",
              "      <td>0</td>\n",
              "      <td>1,6,4,5,1,6,4,5</td>\n",
              "      <td>0.0</td>\n",
              "      <td>也許是不甘心 也許是可惜 也許無法相信 突然身邊再也不是你 能給的都已經給你 能做的都用盡全...</td>\n",
              "      <td>Maybe not willing to believe maybe but maybe n...</td>\n",
              "      <td>145.184540</td>\n",
              "      <td>1.059654</td>\n",
              "    </tr>\n",
              "    <tr>\n",
              "      <th>4</th>\n",
              "      <td>莲</td>\n",
              "      <td>张艺兴</td>\n",
              "      <td>0</td>\n",
              "      <td>2020</td>\n",
              "      <td>0</td>\n",
              "      <td>1,3,6,3,4,3,6,2</td>\n",
              "      <td>0.0</td>\n",
              "      <td>Look at me good You make an answer Look at me ...</td>\n",
              "      <td>Look at me good You make an answer Look at me ...</td>\n",
              "      <td>109.927071</td>\n",
              "      <td>1.125244</td>\n",
              "    </tr>\n",
              "  </tbody>\n",
              "</table>\n",
              "</div>"
            ],
            "text/plain": [
              "  Song Title   Artist  ...         bpm  danceability\n",
              "0       我很快乐      周兴哲  ...   74.402031      1.065184\n",
              "1          过  林俊杰，王嘉尔  ...  128.099670      1.161731\n",
              "2     因为你所以我      五月天  ...         NaN           NaN\n",
              "3       很久以后      邓紫棋  ...  145.184540      1.059654\n",
              "4          莲      张艺兴  ...  109.927071      1.125244\n",
              "\n",
              "[5 rows x 11 columns]"
            ]
          },
          "metadata": {
            "tags": []
          },
          "execution_count": 13
        }
      ]
    },
    {
      "cell_type": "code",
      "metadata": {
        "colab": {
          "base_uri": "https://localhost:8080/",
          "height": 306
        },
        "id": "OD4qLmd51Qn3",
        "outputId": "fc33d12f-6281-40be-e89d-0b1bb5a0387d"
      },
      "source": [
        "english = pd.read_csv(path + 'Final Playlist Data (English).csv')\n",
        "english = english.drop(columns=['Length of Song'])\n",
        "english.head()"
      ],
      "execution_count": null,
      "outputs": [
        {
          "output_type": "execute_result",
          "data": {
            "text/html": [
              "<div>\n",
              "<style scoped>\n",
              "    .dataframe tbody tr th:only-of-type {\n",
              "        vertical-align: middle;\n",
              "    }\n",
              "\n",
              "    .dataframe tbody tr th {\n",
              "        vertical-align: top;\n",
              "    }\n",
              "\n",
              "    .dataframe thead th {\n",
              "        text-align: right;\n",
              "    }\n",
              "</style>\n",
              "<table border=\"1\" class=\"dataframe\">\n",
              "  <thead>\n",
              "    <tr style=\"text-align: right;\">\n",
              "      <th></th>\n",
              "      <th>Song Title</th>\n",
              "      <th>Artist</th>\n",
              "      <th>Male0 / Female1/Other3</th>\n",
              "      <th>Publish Year</th>\n",
              "      <th>Solo0 / Group1</th>\n",
              "      <th>Main Chord Progression</th>\n",
              "      <th>Romance</th>\n",
              "      <th>Lyrics</th>\n",
              "      <th>Length in Seconds</th>\n",
              "      <th>bpm</th>\n",
              "      <th>danceability</th>\n",
              "    </tr>\n",
              "  </thead>\n",
              "  <tbody>\n",
              "    <tr>\n",
              "      <th>0</th>\n",
              "      <td>We Are Young</td>\n",
              "      <td>Fun</td>\n",
              "      <td>3</td>\n",
              "      <td>2012</td>\n",
              "      <td>1</td>\n",
              "      <td>1,6,4,5,1,6,4,5</td>\n",
              "      <td>0</td>\n",
              "      <td>Give me a second I, I need to get my story str...</td>\n",
              "      <td>252.0</td>\n",
              "      <td>NaN</td>\n",
              "      <td>NaN</td>\n",
              "    </tr>\n",
              "    <tr>\n",
              "      <th>1</th>\n",
              "      <td>Save Your Tears</td>\n",
              "      <td>The Weeknd</td>\n",
              "      <td>0</td>\n",
              "      <td>2020</td>\n",
              "      <td>0</td>\n",
              "      <td>2,6,4,4,1,6,3,5</td>\n",
              "      <td>1</td>\n",
              "      <td>Ooh Yeah I saw you dancing in a crowded room Y...</td>\n",
              "      <td>215.0</td>\n",
              "      <td>117.723969</td>\n",
              "      <td>1.513067</td>\n",
              "    </tr>\n",
              "    <tr>\n",
              "      <th>2</th>\n",
              "      <td>Blinding Lights</td>\n",
              "      <td>The Weeknd</td>\n",
              "      <td>0</td>\n",
              "      <td>2020</td>\n",
              "      <td>0</td>\n",
              "      <td>2,6,1,5,2,6,1,5</td>\n",
              "      <td>1</td>\n",
              "      <td>Yeah I've been tryin' to call I've been on my ...</td>\n",
              "      <td>262.0</td>\n",
              "      <td>85.510956</td>\n",
              "      <td>1.261864</td>\n",
              "    </tr>\n",
              "    <tr>\n",
              "      <th>3</th>\n",
              "      <td>Rain on me</td>\n",
              "      <td>Lady Gaga, Ariana Grande</td>\n",
              "      <td>1</td>\n",
              "      <td>2020</td>\n",
              "      <td>0</td>\n",
              "      <td>1,5,6,5,1,6,5,1</td>\n",
              "      <td>0</td>\n",
              "      <td>I didn't ask for a free ride I only asked you ...</td>\n",
              "      <td>188.0</td>\n",
              "      <td>123.091164</td>\n",
              "      <td>1.185066</td>\n",
              "    </tr>\n",
              "    <tr>\n",
              "      <th>4</th>\n",
              "      <td>Intentions</td>\n",
              "      <td>Justin Bieber</td>\n",
              "      <td>0</td>\n",
              "      <td>2020</td>\n",
              "      <td>0</td>\n",
              "      <td>1,1,6,4,6,4,1,1</td>\n",
              "      <td>1</td>\n",
              "      <td>Picture perfect, you don't need no filter Gorg...</td>\n",
              "      <td>224.0</td>\n",
              "      <td>147.990478</td>\n",
              "      <td>1.051466</td>\n",
              "    </tr>\n",
              "  </tbody>\n",
              "</table>\n",
              "</div>"
            ],
            "text/plain": [
              "        Song Title                    Artist  ...         bpm  danceability\n",
              "0     We Are Young                       Fun  ...         NaN           NaN\n",
              "1  Save Your Tears                The Weeknd  ...  117.723969      1.513067\n",
              "2  Blinding Lights                The Weeknd  ...   85.510956      1.261864\n",
              "3       Rain on me  Lady Gaga, Ariana Grande  ...  123.091164      1.185066\n",
              "4       Intentions             Justin Bieber  ...  147.990478      1.051466\n",
              "\n",
              "[5 rows x 11 columns]"
            ]
          },
          "metadata": {
            "tags": []
          },
          "execution_count": 33
        }
      ]
    },
    {
      "cell_type": "markdown",
      "metadata": {
        "id": "a0g6oXyw1TP3"
      },
      "source": [
        "#**4. Train K-Nearest-Neighbors model**#"
      ]
    },
    {
      "cell_type": "code",
      "metadata": {
        "id": "tgQKYox9d2nB"
      },
      "source": [
        "man_X = mandarin.iloc[:, 2:5].values\n",
        "man_y = mandarin.iloc[:, 0].values"
      ],
      "execution_count": null,
      "outputs": []
    },
    {
      "cell_type": "code",
      "metadata": {
        "id": "cmrRWIfAd2nC",
        "colab": {
          "base_uri": "https://localhost:8080/"
        },
        "outputId": "ec43f6fe-71e6-4976-92bb-f6d64dff5b36"
      },
      "source": [
        "classifier = KNeighborsClassifier(n_neighbors=3)\n",
        "classifier.fit(man_X, man_y)"
      ],
      "execution_count": null,
      "outputs": [
        {
          "output_type": "execute_result",
          "data": {
            "text/plain": [
              "KNeighborsClassifier(algorithm='auto', leaf_size=30, metric='minkowski',\n",
              "                     metric_params=None, n_jobs=None, n_neighbors=3, p=2,\n",
              "                     weights='uniform')"
            ]
          },
          "metadata": {
            "tags": []
          },
          "execution_count": 18
        }
      ]
    },
    {
      "cell_type": "code",
      "metadata": {
        "id": "InD0NFbwd2nD"
      },
      "source": [
        "eng_X = english.iloc[:, 2:5].values\n",
        "eng_y = english.iloc[:, 0].values"
      ],
      "execution_count": null,
      "outputs": []
    },
    {
      "cell_type": "markdown",
      "metadata": {
        "id": "vpXN4qF02Ap2"
      },
      "source": [
        "#**5. Output euclidean distances between the target song and 5 closest matches in the other language**#\n",
        "\n",
        "Using We Are Young as example target song."
      ]
    },
    {
      "cell_type": "code",
      "metadata": {
        "id": "FuQFZL3Tvjn2"
      },
      "source": [
        "we_are_young = [eng_X[0]]\n",
        "distances, indices = classifier.kneighbors(we_are_young, n_neighbors=5)"
      ],
      "execution_count": null,
      "outputs": []
    },
    {
      "cell_type": "code",
      "metadata": {
        "colab": {
          "base_uri": "https://localhost:8080/",
          "height": 204
        },
        "id": "AJyxzG6V28wB",
        "outputId": "6fadeb13-077f-4e1c-9516-7287cedd445c"
      },
      "source": [
        "pd.DataFrame(distances[0], indices[0], columns=['Distances'])"
      ],
      "execution_count": null,
      "outputs": [
        {
          "output_type": "execute_result",
          "data": {
            "text/html": [
              "<div>\n",
              "<style scoped>\n",
              "    .dataframe tbody tr th:only-of-type {\n",
              "        vertical-align: middle;\n",
              "    }\n",
              "\n",
              "    .dataframe tbody tr th {\n",
              "        vertical-align: top;\n",
              "    }\n",
              "\n",
              "    .dataframe thead th {\n",
              "        text-align: right;\n",
              "    }\n",
              "</style>\n",
              "<table border=\"1\" class=\"dataframe\">\n",
              "  <thead>\n",
              "    <tr style=\"text-align: right;\">\n",
              "      <th></th>\n",
              "      <th>Distances</th>\n",
              "    </tr>\n",
              "  </thead>\n",
              "  <tbody>\n",
              "    <tr>\n",
              "      <th>241</th>\n",
              "      <td>2.000000</td>\n",
              "    </tr>\n",
              "    <tr>\n",
              "      <th>66</th>\n",
              "      <td>2.236068</td>\n",
              "    </tr>\n",
              "    <tr>\n",
              "      <th>73</th>\n",
              "      <td>2.236068</td>\n",
              "    </tr>\n",
              "    <tr>\n",
              "      <th>209</th>\n",
              "      <td>2.236068</td>\n",
              "    </tr>\n",
              "    <tr>\n",
              "      <th>40</th>\n",
              "      <td>2.236068</td>\n",
              "    </tr>\n",
              "  </tbody>\n",
              "</table>\n",
              "</div>"
            ],
            "text/plain": [
              "     Distances\n",
              "241   2.000000\n",
              "66    2.236068\n",
              "73    2.236068\n",
              "209   2.236068\n",
              "40    2.236068"
            ]
          },
          "metadata": {
            "tags": []
          },
          "execution_count": 35
        }
      ]
    },
    {
      "cell_type": "code",
      "metadata": {
        "id": "fvJjbqF62_W6"
      },
      "source": [
        ""
      ],
      "execution_count": null,
      "outputs": []
    }
  ]
}