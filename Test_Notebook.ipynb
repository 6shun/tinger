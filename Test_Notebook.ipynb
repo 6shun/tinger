{
  "nbformat": 4,
  "nbformat_minor": 0,
  "metadata": {
    "colab": {
      "name": "Test-Notebook.ipynb",
      "provenance": [],
      "collapsed_sections": [],
      "authorship_tag": "ABX9TyNeDn12K+EGBNRV5DN7Q9xb",
      "include_colab_link": true
    },
    "kernelspec": {
      "name": "python3",
      "display_name": "Python 3"
    }
  },
  "cells": [
    {
      "cell_type": "markdown",
      "metadata": {
        "id": "view-in-github",
        "colab_type": "text"
      },
      "source": [
        "<a href=\"https://colab.research.google.com/github/rbqpark/tinger/blob/main/Test_Notebook.ipynb\" target=\"_parent\"><img src=\"https://colab.research.google.com/assets/colab-badge.svg\" alt=\"Open In Colab\"/></a>"
      ]
    },
    {
      "cell_type": "markdown",
      "metadata": {
        "id": "KazUpslTC0bR"
      },
      "source": [
        "**Creating a test notebook to test saving onto our team github repo:** https://github.com/rbqpark/tinger\r\n",
        "\r\n",
        "How to save: \r\n",
        "1. \"File\" >> \"Save\"\r\n",
        "2. \"File\" >> \"Save a copy in Github\"\r\n",
        "3. If permission not yet granted, give authorization"
      ]
    },
    {
      "cell_type": "code",
      "metadata": {
        "colab": {
          "base_uri": "https://localhost:8080/"
        },
        "id": "v6Bq3c8ACw66",
        "outputId": "4a42fa14-a911-4b53-e505-e721086d888e"
      },
      "source": [
        "def helloWorld(n: int):\r\n",
        "  i = 0\r\n",
        "  while (i < n):\r\n",
        "    print(\"Hello World!\")\r\n",
        "    i +=1\r\n",
        "  return\r\n",
        "\r\n",
        "helloWorld(3)"
      ],
      "execution_count": 2,
      "outputs": [
        {
          "output_type": "stream",
          "text": [
            "Hello World!\n",
            "Hello World!\n",
            "Hello World!\n"
          ],
          "name": "stdout"
        }
      ]
    }
  ]
}