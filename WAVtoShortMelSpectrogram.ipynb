{
  "nbformat": 4,
  "nbformat_minor": 0,
  "metadata": {
    "colab": {
      "name": "WAVtoShortMelSpectrogram.ipynb",
      "provenance": [],
      "collapsed_sections": [],
      "mount_file_id": "1jUILVZpLkzTyBg3TI2tYOwPXygIEBMqT",
      "authorship_tag": "ABX9TyPTZLf0+kfmRp+qFCIjwi2R",
      "include_colab_link": true
    },
    "kernelspec": {
      "name": "python3",
      "display_name": "Python 3"
    }
  },
  "cells": [
    {
      "cell_type": "markdown",
      "metadata": {
        "id": "view-in-github",
        "colab_type": "text"
      },
      "source": [
        "<a href=\"https://colab.research.google.com/github/rbqpark/tinger/blob/main/WAVtoShortMelSpectrogram.ipynb\" target=\"_parent\"><img src=\"https://colab.research.google.com/assets/colab-badge.svg\" alt=\"Open In Colab\"/></a>"
      ]
    },
    {
      "cell_type": "markdown",
      "metadata": {
        "id": "KazUpslTC0bR"
      },
      "source": [
        "# **Convert WAV files into Mel Spectrograms.**\n",
        "\n",
        "Uses the librosa library to convert imported WAV files into mel spectrograms through a fast-fourier transformation, followed by a log transformation (executed by library, not implemented by team)\n",
        "---\n",
        "\n",
        "\n",
        "Code research links:\n",
        "\n",
        "pydub: https://stackoverflow.com/questions/15311853/plot-spectogram-from-mp3\n",
        "\n",
        "towardsdatascience: https://towardsdatascience.com/getting-to-know-the-mel-spectrogram-31bca3e2d9d0\n",
        "\n",
        "data extraction: https://stackoverflow.com/questions/49586458/parametererror-data-must-be-floating-point-librosa\n",
        "\n",
        "parameter selection: https://stackoverflow.com/questions/62186487/how-to-decide-the-size-of-image-for-spectrogram-based-on-audio-length \n"
      ]
    },
    {
      "cell_type": "code",
      "metadata": {
        "id": "HqVEC5VmOxOf",
        "colab": {
          "base_uri": "https://localhost:8080/"
        },
        "outputId": "3cb58da2-8bd1-4da8-ed14-ac2063dbd0f2"
      },
      "source": [
        "from google.colab import drive\n",
        "drive.mount('/content/drive')"
      ],
      "execution_count": null,
      "outputs": [
        {
          "output_type": "stream",
          "text": [
            "Drive already mounted at /content/drive; to attempt to forcibly remount, call drive.mount(\"/content/drive\", force_remount=True).\n"
          ],
          "name": "stdout"
        }
      ]
    },
    {
      "cell_type": "code",
      "metadata": {
        "id": "v6Bq3c8ACw66",
        "colab": {
          "base_uri": "https://localhost:8080/"
        },
        "outputId": "e9476454-3c02-4439-8a33-6986aec93c15"
      },
      "source": [
        "# Install libraries not local to Colab\n",
        "%pip install pydub\n",
        "%pip install pychorus\n",
        "%pip install ffmpeg"
      ],
      "execution_count": null,
      "outputs": [
        {
          "output_type": "stream",
          "text": [
            "Requirement already satisfied: pydub in /usr/local/lib/python3.7/dist-packages (0.25.1)\n",
            "Requirement already satisfied: pychorus in /usr/local/lib/python3.7/dist-packages (0.1)\n",
            "Requirement already satisfied: librosa in /usr/local/lib/python3.7/dist-packages (from pychorus) (0.8.0)\n",
            "Requirement already satisfied: numpy in /usr/local/lib/python3.7/dist-packages (from pychorus) (1.19.5)\n",
            "Requirement already satisfied: soundfile in /usr/local/lib/python3.7/dist-packages (from pychorus) (0.10.3.post1)\n",
            "Requirement already satisfied: scipy in /usr/local/lib/python3.7/dist-packages (from pychorus) (1.4.1)\n",
            "Requirement already satisfied: matplotlib in /usr/local/lib/python3.7/dist-packages (from pychorus) (3.2.2)\n",
            "Requirement already satisfied: numba>=0.43.0 in /usr/local/lib/python3.7/dist-packages (from librosa->pychorus) (0.51.2)\n",
            "Requirement already satisfied: scikit-learn!=0.19.0,>=0.14.0 in /usr/local/lib/python3.7/dist-packages (from librosa->pychorus) (0.22.2.post1)\n",
            "Requirement already satisfied: resampy>=0.2.2 in /usr/local/lib/python3.7/dist-packages (from librosa->pychorus) (0.2.2)\n",
            "Requirement already satisfied: decorator>=3.0.0 in /usr/local/lib/python3.7/dist-packages (from librosa->pychorus) (4.4.2)\n",
            "Requirement already satisfied: joblib>=0.14 in /usr/local/lib/python3.7/dist-packages (from librosa->pychorus) (1.0.1)\n",
            "Requirement already satisfied: audioread>=2.0.0 in /usr/local/lib/python3.7/dist-packages (from librosa->pychorus) (2.1.9)\n",
            "Requirement already satisfied: pooch>=1.0 in /usr/local/lib/python3.7/dist-packages (from librosa->pychorus) (1.3.0)\n",
            "Requirement already satisfied: cffi>=1.0 in /usr/local/lib/python3.7/dist-packages (from soundfile->pychorus) (1.14.5)\n",
            "Requirement already satisfied: cycler>=0.10 in /usr/local/lib/python3.7/dist-packages (from matplotlib->pychorus) (0.10.0)\n",
            "Requirement already satisfied: kiwisolver>=1.0.1 in /usr/local/lib/python3.7/dist-packages (from matplotlib->pychorus) (1.3.1)\n",
            "Requirement already satisfied: python-dateutil>=2.1 in /usr/local/lib/python3.7/dist-packages (from matplotlib->pychorus) (2.8.1)\n",
            "Requirement already satisfied: pyparsing!=2.0.4,!=2.1.2,!=2.1.6,>=2.0.1 in /usr/local/lib/python3.7/dist-packages (from matplotlib->pychorus) (2.4.7)\n",
            "Requirement already satisfied: setuptools in /usr/local/lib/python3.7/dist-packages (from numba>=0.43.0->librosa->pychorus) (56.0.0)\n",
            "Requirement already satisfied: llvmlite<0.35,>=0.34.0.dev0 in /usr/local/lib/python3.7/dist-packages (from numba>=0.43.0->librosa->pychorus) (0.34.0)\n",
            "Requirement already satisfied: six>=1.3 in /usr/local/lib/python3.7/dist-packages (from resampy>=0.2.2->librosa->pychorus) (1.15.0)\n",
            "Requirement already satisfied: requests in /usr/local/lib/python3.7/dist-packages (from pooch>=1.0->librosa->pychorus) (2.23.0)\n",
            "Requirement already satisfied: appdirs in /usr/local/lib/python3.7/dist-packages (from pooch>=1.0->librosa->pychorus) (1.4.4)\n",
            "Requirement already satisfied: packaging in /usr/local/lib/python3.7/dist-packages (from pooch>=1.0->librosa->pychorus) (20.9)\n",
            "Requirement already satisfied: pycparser in /usr/local/lib/python3.7/dist-packages (from cffi>=1.0->soundfile->pychorus) (2.20)\n",
            "Requirement already satisfied: urllib3!=1.25.0,!=1.25.1,<1.26,>=1.21.1 in /usr/local/lib/python3.7/dist-packages (from requests->pooch>=1.0->librosa->pychorus) (1.24.3)\n",
            "Requirement already satisfied: certifi>=2017.4.17 in /usr/local/lib/python3.7/dist-packages (from requests->pooch>=1.0->librosa->pychorus) (2020.12.5)\n",
            "Requirement already satisfied: idna<3,>=2.5 in /usr/local/lib/python3.7/dist-packages (from requests->pooch>=1.0->librosa->pychorus) (2.10)\n",
            "Requirement already satisfied: chardet<4,>=3.0.2 in /usr/local/lib/python3.7/dist-packages (from requests->pooch>=1.0->librosa->pychorus) (3.0.4)\n",
            "Requirement already satisfied: ffmpeg in /usr/local/lib/python3.7/dist-packages (1.4)\n"
          ],
          "name": "stdout"
        }
      ]
    },
    {
      "cell_type": "code",
      "metadata": {
        "id": "9kfGdDhO9CW0"
      },
      "source": [
        "# Install all other dependencies\n",
        "import os\n",
        "import glob\n",
        "import numpy as np\n",
        "import matplotlib.pyplot as plt\n",
        "import librosa\n",
        "import librosa.display\n",
        "from scipy.io import wavfile\n",
        "from __future__ import unicode_literals"
      ],
      "execution_count": null,
      "outputs": []
    },
    {
      "cell_type": "code",
      "metadata": {
        "id": "-Ag0j4w8zvaD"
      },
      "source": [
        "# Specify download paths to training data\n",
        "mandarin_wav_path = '/content/drive/My Drive/Tinger/Code/Audio/Audio_Mandarin/'\n",
        "english_wav_path = '/content/drive/My Drive/Tinger/Code/Audio/Audio_English/'\n",
        "\n",
        "mandarin_save_path = '/content/drive/My Drive/Tinger/Code/WAVtoShortMelSpectrogram-Output/Mel_Mandarin/'\n",
        "english_save_path = '/content/drive/My Drive/Tinger/Code/WAVtoShortMelSpectrogram-Output/Mel_English/'\n"
      ],
      "execution_count": null,
      "outputs": []
    },
    {
      "cell_type": "code",
      "metadata": {
        "id": "oVDmK-I7heQL"
      },
      "source": [
        "# Get file names as an iterator\n",
        "mandarin_wav_iter = glob.iglob(mandarin_wav_path + '*.wav', recursive=True)\n",
        "english_wav_iter = glob.iglob(english_wav_path + '*.wav', recursive=True)"
      ],
      "execution_count": null,
      "outputs": []
    },
    {
      "cell_type": "code",
      "metadata": {
        "id": "VJuqZVp0ha1J",
        "colab": {
          "base_uri": "https://localhost:8080/",
          "height": 34
        },
        "outputId": "16b0b4f6-12a2-4160-f102-d9375ae64950"
      },
      "source": [
        "# Plot and save Mandarin playlist spectrograms\n",
        "for m in mandarin_wav_iter:\n",
        "  data, SR = librosa.load(m)\n",
        "  S = librosa.feature.melspectrogram(data, sr=SR, n_fft=2048, hop_length=512, n_mels=128)\n",
        "  S_DB = librosa.power_to_db(S, ref=np.max)\n",
        "  P = librosa.display.specshow(S_DB, sr=SR, hop_length=512);\n",
        "  plt.savefig(mandarin_save_path + m[57:-4] + '_mel.png')\n",
        "  plt.clf()"
      ],
      "execution_count": null,
      "outputs": [
        {
          "output_type": "display_data",
          "data": {
            "text/plain": [
              "<Figure size 432x288 with 0 Axes>"
            ]
          },
          "metadata": {
            "tags": []
          }
        }
      ]
    },
    {
      "cell_type": "code",
      "metadata": {
        "id": "RYmLM95HVDkK",
        "colab": {
          "base_uri": "https://localhost:8080/",
          "height": 34
        },
        "outputId": "dc7bff9c-5979-460a-f950-c2388306bf57"
      },
      "source": [
        "# Plot and save English playlist spectrograms\n",
        "for e in english_wav_iter:\n",
        "  data, SR = librosa.load(e)\n",
        "  S = librosa.feature.melspectrogram(data, sr=SR, n_fft=2048, hop_length=512, n_mels=128)\n",
        "  S_DB = librosa.power_to_db(S, ref=np.max)\n",
        "  P = librosa.display.specshow(S_DB, sr=SR, hop_length=512);\n",
        "  plt.savefig(english_save_path + e[56:-4] + '_mel.png')\n",
        "  plt.clf()"
      ],
      "execution_count": null,
      "outputs": [
        {
          "output_type": "display_data",
          "data": {
            "text/plain": [
              "<Figure size 432x288 with 0 Axes>"
            ]
          },
          "metadata": {
            "tags": []
          }
        }
      ]
    },
    {
      "cell_type": "code",
      "metadata": {
        "id": "EiIeuw3zbyr5"
      },
      "source": [
        ""
      ],
      "execution_count": null,
      "outputs": []
    }
  ]
}