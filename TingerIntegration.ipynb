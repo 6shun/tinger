{
  "nbformat": 4,
  "nbformat_minor": 0,
  "metadata": {
    "kernelspec": {
      "display_name": "Python 3",
      "language": "python",
      "name": "python3"
    },
    "language_info": {
      "codemirror_mode": {
        "name": "ipython",
        "version": 3
      },
      "file_extension": ".py",
      "mimetype": "text/x-python",
      "name": "python",
      "nbconvert_exporter": "python",
      "pygments_lexer": "ipython3",
      "version": "3.8.8"
    },
    "colab": {
      "name": "Tinger Integration.ipynb",
      "provenance": [],
      "collapsed_sections": [
        "t_Mcp1XiinEQ",
        "0CKuV5vzi8QU",
        "c9SS5JxKjgjh",
        "kNbxS1iEJrJp",
        "LONxvnSY-o3R"
      ],
      "include_colab_link": true
    },
    "accelerator": "GPU"
  },
  "cells": [
    {
      "cell_type": "markdown",
      "metadata": {
        "id": "view-in-github",
        "colab_type": "text"
      },
      "source": [
        "<a href=\"https://colab.research.google.com/github/rbqpark/tinger/blob/main/TingerIntegration.ipynb\" target=\"_parent\"><img src=\"https://colab.research.google.com/assets/colab-badge.svg\" alt=\"Open In Colab\"/></a>"
      ]
    },
    {
      "cell_type": "markdown",
      "metadata": {
        "id": "5LZQvn_entUM"
      },
      "source": [
        "\n",
        "#**1. Mount Google Drive and get authentication from Google SDK**#\n",
        "\n",
        "This step includes mounting the Google Drive and receiving authentication via Google SDK to gain access to our database and custom libraries."
      ]
    },
    {
      "cell_type": "code",
      "metadata": {
        "colab": {
          "base_uri": "https://localhost:8080/"
        },
        "id": "uOEMmeXM3JAu",
        "outputId": "37d464fc-8d5b-4a1e-df97-1d62a2d60662"
      },
      "source": [
        "from google.colab import drive, auth\n",
        "from oauth2client.client import GoogleCredentials\n",
        "import gspread\n",
        "\n",
        "# mount Google Drive\n",
        "drive.mount('/content/drive')"
      ],
      "execution_count": null,
      "outputs": [
        {
          "output_type": "stream",
          "text": [
            "Mounted at /content/drive\n"
          ],
          "name": "stdout"
        }
      ]
    },
    {
      "cell_type": "code",
      "metadata": {
        "id": "bqBrw80t76ul"
      },
      "source": [
        "# authenticate to gain access to read CSV files from Google Drive\n",
        "auth.authenticate_user()\n",
        "gc = gspread.authorize(GoogleCredentials.get_application_default())"
      ],
      "execution_count": null,
      "outputs": []
    },
    {
      "cell_type": "markdown",
      "metadata": {
        "id": "t_Mcp1XiinEQ"
      },
      "source": [
        "------------------------------------------\n",
        "#**2. Install and import all dependencies**#"
      ]
    },
    {
      "cell_type": "code",
      "metadata": {
        "id": "zQpMxh8C3Usw",
        "colab": {
          "base_uri": "https://localhost:8080/"
        },
        "outputId": "62da792d-3a6d-4fd6-a5dd-6147cb601f05"
      },
      "source": [
        "#@title\n",
        "# Install libraries not local to Colab\n",
        "!pip install tensorflow\n",
        "!pip install tensorflow-gpu\n",
        "!pip install import-ipynb\n",
        "!pip install chinese-converter\n",
        "!pip install anvil-uplink"
      ],
      "execution_count": null,
      "outputs": [
        {
          "output_type": "stream",
          "text": [
            "Requirement already satisfied: tensorflow in /usr/local/lib/python3.7/dist-packages (2.4.1)\n",
            "Requirement already satisfied: six~=1.15.0 in /usr/local/lib/python3.7/dist-packages (from tensorflow) (1.15.0)\n",
            "Requirement already satisfied: tensorboard~=2.4 in /usr/local/lib/python3.7/dist-packages (from tensorflow) (2.4.1)\n",
            "Requirement already satisfied: protobuf>=3.9.2 in /usr/local/lib/python3.7/dist-packages (from tensorflow) (3.12.4)\n",
            "Requirement already satisfied: numpy~=1.19.2 in /usr/local/lib/python3.7/dist-packages (from tensorflow) (1.19.5)\n",
            "Requirement already satisfied: grpcio~=1.32.0 in /usr/local/lib/python3.7/dist-packages (from tensorflow) (1.32.0)\n",
            "Requirement already satisfied: typing-extensions~=3.7.4 in /usr/local/lib/python3.7/dist-packages (from tensorflow) (3.7.4.3)\n",
            "Requirement already satisfied: google-pasta~=0.2 in /usr/local/lib/python3.7/dist-packages (from tensorflow) (0.2.0)\n",
            "Requirement already satisfied: absl-py~=0.10 in /usr/local/lib/python3.7/dist-packages (from tensorflow) (0.12.0)\n",
            "Requirement already satisfied: astunparse~=1.6.3 in /usr/local/lib/python3.7/dist-packages (from tensorflow) (1.6.3)\n",
            "Requirement already satisfied: termcolor~=1.1.0 in /usr/local/lib/python3.7/dist-packages (from tensorflow) (1.1.0)\n",
            "Requirement already satisfied: keras-preprocessing~=1.1.2 in /usr/local/lib/python3.7/dist-packages (from tensorflow) (1.1.2)\n",
            "Requirement already satisfied: wrapt~=1.12.1 in /usr/local/lib/python3.7/dist-packages (from tensorflow) (1.12.1)\n",
            "Requirement already satisfied: opt-einsum~=3.3.0 in /usr/local/lib/python3.7/dist-packages (from tensorflow) (3.3.0)\n",
            "Requirement already satisfied: tensorflow-estimator<2.5.0,>=2.4.0 in /usr/local/lib/python3.7/dist-packages (from tensorflow) (2.4.0)\n",
            "Requirement already satisfied: h5py~=2.10.0 in /usr/local/lib/python3.7/dist-packages (from tensorflow) (2.10.0)\n",
            "Requirement already satisfied: flatbuffers~=1.12.0 in /usr/local/lib/python3.7/dist-packages (from tensorflow) (1.12)\n",
            "Requirement already satisfied: wheel~=0.35 in /usr/local/lib/python3.7/dist-packages (from tensorflow) (0.36.2)\n",
            "Requirement already satisfied: gast==0.3.3 in /usr/local/lib/python3.7/dist-packages (from tensorflow) (0.3.3)\n",
            "Requirement already satisfied: requests<3,>=2.21.0 in /usr/local/lib/python3.7/dist-packages (from tensorboard~=2.4->tensorflow) (2.23.0)\n",
            "Requirement already satisfied: tensorboard-plugin-wit>=1.6.0 in /usr/local/lib/python3.7/dist-packages (from tensorboard~=2.4->tensorflow) (1.8.0)\n",
            "Requirement already satisfied: werkzeug>=0.11.15 in /usr/local/lib/python3.7/dist-packages (from tensorboard~=2.4->tensorflow) (1.0.1)\n",
            "Requirement already satisfied: markdown>=2.6.8 in /usr/local/lib/python3.7/dist-packages (from tensorboard~=2.4->tensorflow) (3.3.4)\n",
            "Requirement already satisfied: google-auth-oauthlib<0.5,>=0.4.1 in /usr/local/lib/python3.7/dist-packages (from tensorboard~=2.4->tensorflow) (0.4.4)\n",
            "Requirement already satisfied: setuptools>=41.0.0 in /usr/local/lib/python3.7/dist-packages (from tensorboard~=2.4->tensorflow) (56.0.0)\n",
            "Requirement already satisfied: google-auth<2,>=1.6.3 in /usr/local/lib/python3.7/dist-packages (from tensorboard~=2.4->tensorflow) (1.28.1)\n",
            "Requirement already satisfied: certifi>=2017.4.17 in /usr/local/lib/python3.7/dist-packages (from requests<3,>=2.21.0->tensorboard~=2.4->tensorflow) (2020.12.5)\n",
            "Requirement already satisfied: chardet<4,>=3.0.2 in /usr/local/lib/python3.7/dist-packages (from requests<3,>=2.21.0->tensorboard~=2.4->tensorflow) (3.0.4)\n",
            "Requirement already satisfied: idna<3,>=2.5 in /usr/local/lib/python3.7/dist-packages (from requests<3,>=2.21.0->tensorboard~=2.4->tensorflow) (2.10)\n",
            "Requirement already satisfied: urllib3!=1.25.0,!=1.25.1,<1.26,>=1.21.1 in /usr/local/lib/python3.7/dist-packages (from requests<3,>=2.21.0->tensorboard~=2.4->tensorflow) (1.24.3)\n",
            "Requirement already satisfied: importlib-metadata; python_version < \"3.8\" in /usr/local/lib/python3.7/dist-packages (from markdown>=2.6.8->tensorboard~=2.4->tensorflow) (3.10.1)\n",
            "Requirement already satisfied: requests-oauthlib>=0.7.0 in /usr/local/lib/python3.7/dist-packages (from google-auth-oauthlib<0.5,>=0.4.1->tensorboard~=2.4->tensorflow) (1.3.0)\n",
            "Requirement already satisfied: rsa<5,>=3.1.4; python_version >= \"3.6\" in /usr/local/lib/python3.7/dist-packages (from google-auth<2,>=1.6.3->tensorboard~=2.4->tensorflow) (4.7.2)\n",
            "Requirement already satisfied: pyasn1-modules>=0.2.1 in /usr/local/lib/python3.7/dist-packages (from google-auth<2,>=1.6.3->tensorboard~=2.4->tensorflow) (0.2.8)\n",
            "Requirement already satisfied: cachetools<5.0,>=2.0.0 in /usr/local/lib/python3.7/dist-packages (from google-auth<2,>=1.6.3->tensorboard~=2.4->tensorflow) (4.2.1)\n",
            "Requirement already satisfied: zipp>=0.5 in /usr/local/lib/python3.7/dist-packages (from importlib-metadata; python_version < \"3.8\"->markdown>=2.6.8->tensorboard~=2.4->tensorflow) (3.4.1)\n",
            "Requirement already satisfied: oauthlib>=3.0.0 in /usr/local/lib/python3.7/dist-packages (from requests-oauthlib>=0.7.0->google-auth-oauthlib<0.5,>=0.4.1->tensorboard~=2.4->tensorflow) (3.1.0)\n",
            "Requirement already satisfied: pyasn1>=0.1.3 in /usr/local/lib/python3.7/dist-packages (from rsa<5,>=3.1.4; python_version >= \"3.6\"->google-auth<2,>=1.6.3->tensorboard~=2.4->tensorflow) (0.4.8)\n",
            "Collecting tensorflow-gpu\n",
            "\u001b[?25l  Downloading https://files.pythonhosted.org/packages/85/cc/a27e73cf8b23f2ce4bdd2b7089a42a7819ce6dd7366dceba406ddc5daa9c/tensorflow_gpu-2.4.1-cp37-cp37m-manylinux2010_x86_64.whl (394.3MB)\n",
            "\u001b[K     |████████████████████████████████| 394.3MB 44kB/s \n",
            "\u001b[?25hRequirement already satisfied: google-pasta~=0.2 in /usr/local/lib/python3.7/dist-packages (from tensorflow-gpu) (0.2.0)\n",
            "Requirement already satisfied: keras-preprocessing~=1.1.2 in /usr/local/lib/python3.7/dist-packages (from tensorflow-gpu) (1.1.2)\n",
            "Requirement already satisfied: grpcio~=1.32.0 in /usr/local/lib/python3.7/dist-packages (from tensorflow-gpu) (1.32.0)\n",
            "Requirement already satisfied: astunparse~=1.6.3 in /usr/local/lib/python3.7/dist-packages (from tensorflow-gpu) (1.6.3)\n",
            "Requirement already satisfied: absl-py~=0.10 in /usr/local/lib/python3.7/dist-packages (from tensorflow-gpu) (0.12.0)\n",
            "Requirement already satisfied: opt-einsum~=3.3.0 in /usr/local/lib/python3.7/dist-packages (from tensorflow-gpu) (3.3.0)\n",
            "Requirement already satisfied: protobuf>=3.9.2 in /usr/local/lib/python3.7/dist-packages (from tensorflow-gpu) (3.12.4)\n",
            "Requirement already satisfied: wheel~=0.35 in /usr/local/lib/python3.7/dist-packages (from tensorflow-gpu) (0.36.2)\n",
            "Requirement already satisfied: tensorflow-estimator<2.5.0,>=2.4.0 in /usr/local/lib/python3.7/dist-packages (from tensorflow-gpu) (2.4.0)\n",
            "Requirement already satisfied: gast==0.3.3 in /usr/local/lib/python3.7/dist-packages (from tensorflow-gpu) (0.3.3)\n",
            "Requirement already satisfied: wrapt~=1.12.1 in /usr/local/lib/python3.7/dist-packages (from tensorflow-gpu) (1.12.1)\n",
            "Requirement already satisfied: numpy~=1.19.2 in /usr/local/lib/python3.7/dist-packages (from tensorflow-gpu) (1.19.5)\n",
            "Requirement already satisfied: termcolor~=1.1.0 in /usr/local/lib/python3.7/dist-packages (from tensorflow-gpu) (1.1.0)\n",
            "Requirement already satisfied: tensorboard~=2.4 in /usr/local/lib/python3.7/dist-packages (from tensorflow-gpu) (2.4.1)\n",
            "Requirement already satisfied: flatbuffers~=1.12.0 in /usr/local/lib/python3.7/dist-packages (from tensorflow-gpu) (1.12)\n",
            "Requirement already satisfied: typing-extensions~=3.7.4 in /usr/local/lib/python3.7/dist-packages (from tensorflow-gpu) (3.7.4.3)\n",
            "Requirement already satisfied: six~=1.15.0 in /usr/local/lib/python3.7/dist-packages (from tensorflow-gpu) (1.15.0)\n",
            "Requirement already satisfied: h5py~=2.10.0 in /usr/local/lib/python3.7/dist-packages (from tensorflow-gpu) (2.10.0)\n",
            "Requirement already satisfied: setuptools in /usr/local/lib/python3.7/dist-packages (from protobuf>=3.9.2->tensorflow-gpu) (56.0.0)\n",
            "Requirement already satisfied: google-auth<2,>=1.6.3 in /usr/local/lib/python3.7/dist-packages (from tensorboard~=2.4->tensorflow-gpu) (1.28.1)\n",
            "Requirement already satisfied: google-auth-oauthlib<0.5,>=0.4.1 in /usr/local/lib/python3.7/dist-packages (from tensorboard~=2.4->tensorflow-gpu) (0.4.4)\n",
            "Requirement already satisfied: werkzeug>=0.11.15 in /usr/local/lib/python3.7/dist-packages (from tensorboard~=2.4->tensorflow-gpu) (1.0.1)\n",
            "Requirement already satisfied: markdown>=2.6.8 in /usr/local/lib/python3.7/dist-packages (from tensorboard~=2.4->tensorflow-gpu) (3.3.4)\n",
            "Requirement already satisfied: requests<3,>=2.21.0 in /usr/local/lib/python3.7/dist-packages (from tensorboard~=2.4->tensorflow-gpu) (2.23.0)\n",
            "Requirement already satisfied: tensorboard-plugin-wit>=1.6.0 in /usr/local/lib/python3.7/dist-packages (from tensorboard~=2.4->tensorflow-gpu) (1.8.0)\n",
            "Requirement already satisfied: pyasn1-modules>=0.2.1 in /usr/local/lib/python3.7/dist-packages (from google-auth<2,>=1.6.3->tensorboard~=2.4->tensorflow-gpu) (0.2.8)\n",
            "Requirement already satisfied: rsa<5,>=3.1.4; python_version >= \"3.6\" in /usr/local/lib/python3.7/dist-packages (from google-auth<2,>=1.6.3->tensorboard~=2.4->tensorflow-gpu) (4.7.2)\n",
            "Requirement already satisfied: cachetools<5.0,>=2.0.0 in /usr/local/lib/python3.7/dist-packages (from google-auth<2,>=1.6.3->tensorboard~=2.4->tensorflow-gpu) (4.2.1)\n",
            "Requirement already satisfied: requests-oauthlib>=0.7.0 in /usr/local/lib/python3.7/dist-packages (from google-auth-oauthlib<0.5,>=0.4.1->tensorboard~=2.4->tensorflow-gpu) (1.3.0)\n",
            "Requirement already satisfied: importlib-metadata; python_version < \"3.8\" in /usr/local/lib/python3.7/dist-packages (from markdown>=2.6.8->tensorboard~=2.4->tensorflow-gpu) (3.10.1)\n",
            "Requirement already satisfied: urllib3!=1.25.0,!=1.25.1,<1.26,>=1.21.1 in /usr/local/lib/python3.7/dist-packages (from requests<3,>=2.21.0->tensorboard~=2.4->tensorflow-gpu) (1.24.3)\n",
            "Requirement already satisfied: chardet<4,>=3.0.2 in /usr/local/lib/python3.7/dist-packages (from requests<3,>=2.21.0->tensorboard~=2.4->tensorflow-gpu) (3.0.4)\n",
            "Requirement already satisfied: certifi>=2017.4.17 in /usr/local/lib/python3.7/dist-packages (from requests<3,>=2.21.0->tensorboard~=2.4->tensorflow-gpu) (2020.12.5)\n",
            "Requirement already satisfied: idna<3,>=2.5 in /usr/local/lib/python3.7/dist-packages (from requests<3,>=2.21.0->tensorboard~=2.4->tensorflow-gpu) (2.10)\n",
            "Requirement already satisfied: pyasn1<0.5.0,>=0.4.6 in /usr/local/lib/python3.7/dist-packages (from pyasn1-modules>=0.2.1->google-auth<2,>=1.6.3->tensorboard~=2.4->tensorflow-gpu) (0.4.8)\n",
            "Requirement already satisfied: oauthlib>=3.0.0 in /usr/local/lib/python3.7/dist-packages (from requests-oauthlib>=0.7.0->google-auth-oauthlib<0.5,>=0.4.1->tensorboard~=2.4->tensorflow-gpu) (3.1.0)\n",
            "Requirement already satisfied: zipp>=0.5 in /usr/local/lib/python3.7/dist-packages (from importlib-metadata; python_version < \"3.8\"->markdown>=2.6.8->tensorboard~=2.4->tensorflow-gpu) (3.4.1)\n",
            "Installing collected packages: tensorflow-gpu\n",
            "Successfully installed tensorflow-gpu-2.4.1\n",
            "Collecting import-ipynb\n",
            "  Downloading https://files.pythonhosted.org/packages/63/35/495e0021bfdcc924c7cdec4e9fbb87c88dd03b9b9b22419444dc370c8a45/import-ipynb-0.1.3.tar.gz\n",
            "Building wheels for collected packages: import-ipynb\n",
            "  Building wheel for import-ipynb (setup.py) ... \u001b[?25l\u001b[?25hdone\n",
            "  Created wheel for import-ipynb: filename=import_ipynb-0.1.3-cp37-none-any.whl size=2976 sha256=04b7a22401626a37f13e7bf9242734912a00d20f99f3331235eda85f76b5474d\n",
            "  Stored in directory: /root/.cache/pip/wheels/b4/7b/e9/a3a6e496115dffdb4e3085d0ae39ffe8a814eacc44bbf494b5\n",
            "Successfully built import-ipynb\n",
            "Installing collected packages: import-ipynb\n",
            "Successfully installed import-ipynb-0.1.3\n",
            "Collecting chinese-converter\n",
            "\u001b[?25l  Downloading https://files.pythonhosted.org/packages/c6/7f/e8b273e5d4badbf3c4417189eda3ed21ed2e7d15ebf7a3f617f5f87e2efc/chinese_converter-1.0.2-py3-none-any.whl (190kB)\n",
            "\u001b[K     |████████████████████████████████| 194kB 17.1MB/s \n",
            "\u001b[?25hInstalling collected packages: chinese-converter\n",
            "Successfully installed chinese-converter-1.0.2\n",
            "Collecting anvil-uplink\n",
            "\u001b[?25l  Downloading https://files.pythonhosted.org/packages/9a/65/776713490bfd5145ddb87834355bf7936bd233b273098e37dc12f1ac253c/anvil_uplink-0.3.36-py2.py3-none-any.whl (61kB)\n",
            "\u001b[K     |████████████████████████████████| 61kB 9.2MB/s \n",
            "\u001b[?25hCollecting ws4py\n",
            "\u001b[?25l  Downloading https://files.pythonhosted.org/packages/53/20/4019a739b2eefe9282d3822ef6a225250af964b117356971bd55e274193c/ws4py-0.5.1.tar.gz (51kB)\n",
            "\u001b[K     |████████████████████████████████| 61kB 9.7MB/s \n",
            "\u001b[?25hCollecting argparse\n",
            "  Downloading https://files.pythonhosted.org/packages/f2/94/3af39d34be01a24a6e65433d19e107099374224905f1e0cc6bbe1fd22a2f/argparse-1.4.0-py2.py3-none-any.whl\n",
            "Requirement already satisfied: future in /usr/local/lib/python3.7/dist-packages (from anvil-uplink) (0.16.0)\n",
            "Requirement already satisfied: six in /usr/local/lib/python3.7/dist-packages (from anvil-uplink) (1.15.0)\n",
            "Building wheels for collected packages: ws4py\n",
            "  Building wheel for ws4py (setup.py) ... \u001b[?25l\u001b[?25hdone\n",
            "  Created wheel for ws4py: filename=ws4py-0.5.1-cp37-none-any.whl size=45216 sha256=09da51a410ebdef5a151cc582fc7e24009b1ddef3fcb1def2405f0899bad0085\n",
            "  Stored in directory: /root/.cache/pip/wheels/a2/6e/4e/8b0ae12fb9b8a05715256952cf7609a8ab86285fab99b88c68\n",
            "Successfully built ws4py\n",
            "Installing collected packages: ws4py, argparse, anvil-uplink\n",
            "Successfully installed anvil-uplink-0.3.36 argparse-1.4.0 ws4py-0.5.1\n"
          ],
          "name": "stdout"
        },
        {
          "output_type": "display_data",
          "data": {
            "application/vnd.colab-display-data+json": {
              "pip_warning": {
                "packages": [
                  "argparse",
                  "google"
                ]
              }
            }
          },
          "metadata": {
            "tags": []
          }
        }
      ]
    },
    {
      "cell_type": "code",
      "metadata": {
        "id": "r-hAYgo0-SJ1",
        "colab": {
          "base_uri": "https://localhost:8080/"
        },
        "outputId": "6b36fcb7-f9dd-411c-e052-93a0e24e5d0d"
      },
      "source": [
        "#@title\n",
        "# Must move current directory into Tinger's main code directory\n",
        "%cd '/content/drive/MyDrive/Tinger/Code/'"
      ],
      "execution_count": null,
      "outputs": [
        {
          "output_type": "stream",
          "text": [
            "/content/drive/.shortcut-targets-by-id/1MmUoTMTlJTAmm1As2rqatiDS3yAAsfgG/Tinger/Code\n"
          ],
          "name": "stdout"
        }
      ]
    },
    {
      "cell_type": "code",
      "metadata": {
        "id": "lxn5SbTB1o_W",
        "colab": {
          "base_uri": "https://localhost:8080/"
        },
        "collapsed": true,
        "outputId": "56a2eaf5-5a0c-4a16-8be8-83910260018c"
      },
      "source": [
        "#@title\n",
        "# import dependencies\n",
        "import pandas as pd\n",
        "import numpy as np\n",
        "import matplotlib.pyplot as plt\n",
        "import os\n",
        "import glob\n",
        "import chinese_converter\n",
        "from PIL import Image\n",
        "from timeit import default_timer\n",
        "\n",
        "# import keras\n",
        "from tensorflow import keras\n",
        "\n",
        "# import custom SNN functions from UseSNN.ipynb in the same directory\n",
        "import import_ipynb\n",
        "import UseSNN\n",
        "\n",
        "# import sklearn\n",
        "from sklearn.neighbors import KNeighborsClassifier\n",
        "\n",
        "# import difflib\n",
        "from difflib import SequenceMatcher"
      ],
      "execution_count": null,
      "outputs": [
        {
          "output_type": "stream",
          "text": [
            "importing Jupyter notebook from UseSNN.ipynb\n",
            "Drive already mounted at /content/drive; to attempt to forcibly remount, call drive.mount(\"/content/drive\", force_remount=True).\n",
            "Requirement already satisfied: tensorflow in /usr/local/lib/python3.7/dist-packages (2.4.1)\n",
            "Requirement already satisfied: typing-extensions~=3.7.4 in /usr/local/lib/python3.7/dist-packages (from tensorflow) (3.7.4.3)\n",
            "Requirement already satisfied: wrapt~=1.12.1 in /usr/local/lib/python3.7/dist-packages (from tensorflow) (1.12.1)\n",
            "Requirement already satisfied: tensorboard~=2.4 in /usr/local/lib/python3.7/dist-packages (from tensorflow) (2.4.1)\n",
            "Requirement already satisfied: wheel~=0.35 in /usr/local/lib/python3.7/dist-packages (from tensorflow) (0.36.2)\n",
            "Requirement already satisfied: h5py~=2.10.0 in /usr/local/lib/python3.7/dist-packages (from tensorflow) (2.10.0)\n",
            "Requirement already satisfied: termcolor~=1.1.0 in /usr/local/lib/python3.7/dist-packages (from tensorflow) (1.1.0)\n",
            "Requirement already satisfied: absl-py~=0.10 in /usr/local/lib/python3.7/dist-packages (from tensorflow) (0.12.0)\n",
            "Requirement already satisfied: google-pasta~=0.2 in /usr/local/lib/python3.7/dist-packages (from tensorflow) (0.2.0)\n",
            "Requirement already satisfied: six~=1.15.0 in /usr/local/lib/python3.7/dist-packages (from tensorflow) (1.15.0)\n",
            "Requirement already satisfied: tensorflow-estimator<2.5.0,>=2.4.0 in /usr/local/lib/python3.7/dist-packages (from tensorflow) (2.4.0)\n",
            "Requirement already satisfied: astunparse~=1.6.3 in /usr/local/lib/python3.7/dist-packages (from tensorflow) (1.6.3)\n",
            "Requirement already satisfied: numpy~=1.19.2 in /usr/local/lib/python3.7/dist-packages (from tensorflow) (1.19.5)\n",
            "Requirement already satisfied: flatbuffers~=1.12.0 in /usr/local/lib/python3.7/dist-packages (from tensorflow) (1.12)\n",
            "Requirement already satisfied: grpcio~=1.32.0 in /usr/local/lib/python3.7/dist-packages (from tensorflow) (1.32.0)\n",
            "Requirement already satisfied: protobuf>=3.9.2 in /usr/local/lib/python3.7/dist-packages (from tensorflow) (3.12.4)\n",
            "Requirement already satisfied: gast==0.3.3 in /usr/local/lib/python3.7/dist-packages (from tensorflow) (0.3.3)\n",
            "Requirement already satisfied: opt-einsum~=3.3.0 in /usr/local/lib/python3.7/dist-packages (from tensorflow) (3.3.0)\n",
            "Requirement already satisfied: keras-preprocessing~=1.1.2 in /usr/local/lib/python3.7/dist-packages (from tensorflow) (1.1.2)\n",
            "Requirement already satisfied: requests<3,>=2.21.0 in /usr/local/lib/python3.7/dist-packages (from tensorboard~=2.4->tensorflow) (2.23.0)\n",
            "Requirement already satisfied: tensorboard-plugin-wit>=1.6.0 in /usr/local/lib/python3.7/dist-packages (from tensorboard~=2.4->tensorflow) (1.8.0)\n",
            "Requirement already satisfied: setuptools>=41.0.0 in /usr/local/lib/python3.7/dist-packages (from tensorboard~=2.4->tensorflow) (56.0.0)\n",
            "Requirement already satisfied: google-auth<2,>=1.6.3 in /usr/local/lib/python3.7/dist-packages (from tensorboard~=2.4->tensorflow) (1.28.1)\n",
            "Requirement already satisfied: google-auth-oauthlib<0.5,>=0.4.1 in /usr/local/lib/python3.7/dist-packages (from tensorboard~=2.4->tensorflow) (0.4.4)\n",
            "Requirement already satisfied: werkzeug>=0.11.15 in /usr/local/lib/python3.7/dist-packages (from tensorboard~=2.4->tensorflow) (1.0.1)\n",
            "Requirement already satisfied: markdown>=2.6.8 in /usr/local/lib/python3.7/dist-packages (from tensorboard~=2.4->tensorflow) (3.3.4)\n",
            "Requirement already satisfied: urllib3!=1.25.0,!=1.25.1,<1.26,>=1.21.1 in /usr/local/lib/python3.7/dist-packages (from requests<3,>=2.21.0->tensorboard~=2.4->tensorflow) (1.24.3)\n",
            "Requirement already satisfied: chardet<4,>=3.0.2 in /usr/local/lib/python3.7/dist-packages (from requests<3,>=2.21.0->tensorboard~=2.4->tensorflow) (3.0.4)\n",
            "Requirement already satisfied: idna<3,>=2.5 in /usr/local/lib/python3.7/dist-packages (from requests<3,>=2.21.0->tensorboard~=2.4->tensorflow) (2.10)\n",
            "Requirement already satisfied: certifi>=2017.4.17 in /usr/local/lib/python3.7/dist-packages (from requests<3,>=2.21.0->tensorboard~=2.4->tensorflow) (2020.12.5)\n",
            "Requirement already satisfied: pyasn1-modules>=0.2.1 in /usr/local/lib/python3.7/dist-packages (from google-auth<2,>=1.6.3->tensorboard~=2.4->tensorflow) (0.2.8)\n",
            "Requirement already satisfied: cachetools<5.0,>=2.0.0 in /usr/local/lib/python3.7/dist-packages (from google-auth<2,>=1.6.3->tensorboard~=2.4->tensorflow) (4.2.1)\n",
            "Requirement already satisfied: rsa<5,>=3.1.4; python_version >= \"3.6\" in /usr/local/lib/python3.7/dist-packages (from google-auth<2,>=1.6.3->tensorboard~=2.4->tensorflow) (4.7.2)\n",
            "Requirement already satisfied: requests-oauthlib>=0.7.0 in /usr/local/lib/python3.7/dist-packages (from google-auth-oauthlib<0.5,>=0.4.1->tensorboard~=2.4->tensorflow) (1.3.0)\n",
            "Requirement already satisfied: importlib-metadata; python_version < \"3.8\" in /usr/local/lib/python3.7/dist-packages (from markdown>=2.6.8->tensorboard~=2.4->tensorflow) (3.10.1)\n",
            "Requirement already satisfied: pyasn1<0.5.0,>=0.4.6 in /usr/local/lib/python3.7/dist-packages (from pyasn1-modules>=0.2.1->google-auth<2,>=1.6.3->tensorboard~=2.4->tensorflow) (0.4.8)\n",
            "Requirement already satisfied: oauthlib>=3.0.0 in /usr/local/lib/python3.7/dist-packages (from requests-oauthlib>=0.7.0->google-auth-oauthlib<0.5,>=0.4.1->tensorboard~=2.4->tensorflow) (3.1.0)\n",
            "Requirement already satisfied: zipp>=0.5 in /usr/local/lib/python3.7/dist-packages (from importlib-metadata; python_version < \"3.8\"->markdown>=2.6.8->tensorboard~=2.4->tensorflow) (3.4.1)\n",
            "Requirement already satisfied: tensorflow-gpu in /usr/local/lib/python3.7/dist-packages (2.4.1)\n",
            "Requirement already satisfied: numpy~=1.19.2 in /usr/local/lib/python3.7/dist-packages (from tensorflow-gpu) (1.19.5)\n",
            "Requirement already satisfied: google-pasta~=0.2 in /usr/local/lib/python3.7/dist-packages (from tensorflow-gpu) (0.2.0)\n",
            "Requirement already satisfied: opt-einsum~=3.3.0 in /usr/local/lib/python3.7/dist-packages (from tensorflow-gpu) (3.3.0)\n",
            "Requirement already satisfied: tensorboard~=2.4 in /usr/local/lib/python3.7/dist-packages (from tensorflow-gpu) (2.4.1)\n",
            "Requirement already satisfied: wheel~=0.35 in /usr/local/lib/python3.7/dist-packages (from tensorflow-gpu) (0.36.2)\n",
            "Requirement already satisfied: termcolor~=1.1.0 in /usr/local/lib/python3.7/dist-packages (from tensorflow-gpu) (1.1.0)\n",
            "Requirement already satisfied: typing-extensions~=3.7.4 in /usr/local/lib/python3.7/dist-packages (from tensorflow-gpu) (3.7.4.3)\n",
            "Requirement already satisfied: absl-py~=0.10 in /usr/local/lib/python3.7/dist-packages (from tensorflow-gpu) (0.12.0)\n",
            "Requirement already satisfied: six~=1.15.0 in /usr/local/lib/python3.7/dist-packages (from tensorflow-gpu) (1.15.0)\n",
            "Requirement already satisfied: keras-preprocessing~=1.1.2 in /usr/local/lib/python3.7/dist-packages (from tensorflow-gpu) (1.1.2)\n",
            "Requirement already satisfied: protobuf>=3.9.2 in /usr/local/lib/python3.7/dist-packages (from tensorflow-gpu) (3.12.4)\n",
            "Requirement already satisfied: gast==0.3.3 in /usr/local/lib/python3.7/dist-packages (from tensorflow-gpu) (0.3.3)\n",
            "Requirement already satisfied: tensorflow-estimator<2.5.0,>=2.4.0 in /usr/local/lib/python3.7/dist-packages (from tensorflow-gpu) (2.4.0)\n",
            "Requirement already satisfied: grpcio~=1.32.0 in /usr/local/lib/python3.7/dist-packages (from tensorflow-gpu) (1.32.0)\n",
            "Requirement already satisfied: flatbuffers~=1.12.0 in /usr/local/lib/python3.7/dist-packages (from tensorflow-gpu) (1.12)\n",
            "Requirement already satisfied: astunparse~=1.6.3 in /usr/local/lib/python3.7/dist-packages (from tensorflow-gpu) (1.6.3)\n",
            "Requirement already satisfied: h5py~=2.10.0 in /usr/local/lib/python3.7/dist-packages (from tensorflow-gpu) (2.10.0)\n",
            "Requirement already satisfied: wrapt~=1.12.1 in /usr/local/lib/python3.7/dist-packages (from tensorflow-gpu) (1.12.1)\n",
            "Requirement already satisfied: werkzeug>=0.11.15 in /usr/local/lib/python3.7/dist-packages (from tensorboard~=2.4->tensorflow-gpu) (1.0.1)\n",
            "Requirement already satisfied: requests<3,>=2.21.0 in /usr/local/lib/python3.7/dist-packages (from tensorboard~=2.4->tensorflow-gpu) (2.23.0)\n",
            "Requirement already satisfied: setuptools>=41.0.0 in /usr/local/lib/python3.7/dist-packages (from tensorboard~=2.4->tensorflow-gpu) (56.0.0)\n",
            "Requirement already satisfied: tensorboard-plugin-wit>=1.6.0 in /usr/local/lib/python3.7/dist-packages (from tensorboard~=2.4->tensorflow-gpu) (1.8.0)\n",
            "Requirement already satisfied: markdown>=2.6.8 in /usr/local/lib/python3.7/dist-packages (from tensorboard~=2.4->tensorflow-gpu) (3.3.4)\n",
            "Requirement already satisfied: google-auth-oauthlib<0.5,>=0.4.1 in /usr/local/lib/python3.7/dist-packages (from tensorboard~=2.4->tensorflow-gpu) (0.4.4)\n",
            "Requirement already satisfied: google-auth<2,>=1.6.3 in /usr/local/lib/python3.7/dist-packages (from tensorboard~=2.4->tensorflow-gpu) (1.28.1)\n",
            "Requirement already satisfied: idna<3,>=2.5 in /usr/local/lib/python3.7/dist-packages (from requests<3,>=2.21.0->tensorboard~=2.4->tensorflow-gpu) (2.10)\n",
            "Requirement already satisfied: chardet<4,>=3.0.2 in /usr/local/lib/python3.7/dist-packages (from requests<3,>=2.21.0->tensorboard~=2.4->tensorflow-gpu) (3.0.4)\n",
            "Requirement already satisfied: urllib3!=1.25.0,!=1.25.1,<1.26,>=1.21.1 in /usr/local/lib/python3.7/dist-packages (from requests<3,>=2.21.0->tensorboard~=2.4->tensorflow-gpu) (1.24.3)\n",
            "Requirement already satisfied: certifi>=2017.4.17 in /usr/local/lib/python3.7/dist-packages (from requests<3,>=2.21.0->tensorboard~=2.4->tensorflow-gpu) (2020.12.5)\n",
            "Requirement already satisfied: importlib-metadata; python_version < \"3.8\" in /usr/local/lib/python3.7/dist-packages (from markdown>=2.6.8->tensorboard~=2.4->tensorflow-gpu) (3.10.1)\n",
            "Requirement already satisfied: requests-oauthlib>=0.7.0 in /usr/local/lib/python3.7/dist-packages (from google-auth-oauthlib<0.5,>=0.4.1->tensorboard~=2.4->tensorflow-gpu) (1.3.0)\n",
            "Requirement already satisfied: cachetools<5.0,>=2.0.0 in /usr/local/lib/python3.7/dist-packages (from google-auth<2,>=1.6.3->tensorboard~=2.4->tensorflow-gpu) (4.2.1)\n",
            "Requirement already satisfied: rsa<5,>=3.1.4; python_version >= \"3.6\" in /usr/local/lib/python3.7/dist-packages (from google-auth<2,>=1.6.3->tensorboard~=2.4->tensorflow-gpu) (4.7.2)\n",
            "Requirement already satisfied: pyasn1-modules>=0.2.1 in /usr/local/lib/python3.7/dist-packages (from google-auth<2,>=1.6.3->tensorboard~=2.4->tensorflow-gpu) (0.2.8)\n",
            "Requirement already satisfied: zipp>=0.5 in /usr/local/lib/python3.7/dist-packages (from importlib-metadata; python_version < \"3.8\"->markdown>=2.6.8->tensorboard~=2.4->tensorflow-gpu) (3.4.1)\n",
            "Requirement already satisfied: oauthlib>=3.0.0 in /usr/local/lib/python3.7/dist-packages (from requests-oauthlib>=0.7.0->google-auth-oauthlib<0.5,>=0.4.1->tensorboard~=2.4->tensorflow-gpu) (3.1.0)\n",
            "Requirement already satisfied: pyasn1>=0.1.3 in /usr/local/lib/python3.7/dist-packages (from rsa<5,>=3.1.4; python_version >= \"3.6\"->google-auth<2,>=1.6.3->tensorboard~=2.4->tensorflow-gpu) (0.4.8)\n",
            "Requirement already satisfied: chinese-converter in /usr/local/lib/python3.7/dist-packages (1.0.2)\n"
          ],
          "name": "stdout"
        }
      ]
    },
    {
      "cell_type": "markdown",
      "metadata": {
        "id": "0CKuV5vzi8QU"
      },
      "source": [
        "------------------------------------------\n",
        "#**3. Pre-process and store data in advance to save runtime**#\n",
        "\n",
        "By making calculations and transforming data in advance to making recommendations in real-time, Tinger is able to cut down on runtime."
      ]
    },
    {
      "cell_type": "code",
      "metadata": {
        "colab": {
          "base_uri": "https://localhost:8080/"
        },
        "id": "hIL4xjP41o_c",
        "outputId": "2b30ea95-1612-45b3-bf12-3c24262aafaa"
      },
      "source": [
        "path = '/content/drive/MyDrive/Tinger/Documentation/'\n",
        "\n",
        "mandarin = pd.read_csv(path + 'Final Playlist Data (Mandarin).csv')\n",
        "mandarin = mandarin.drop(columns=['Length of Song', 'Length in Seconds'])\n",
        "mandarin['bpm'].replace('', np.nan, inplace=True)\n",
        "mandarin = mandarin.dropna(subset = [\"bpm\"])\n",
        "mandarin"
      ],
      "execution_count": null,
      "outputs": [
        {
          "output_type": "execute_result",
          "data": {
            "text/html": [
              "<div>\n",
              "<style scoped>\n",
              "    .dataframe tbody tr th:only-of-type {\n",
              "        vertical-align: middle;\n",
              "    }\n",
              "\n",
              "    .dataframe tbody tr th {\n",
              "        vertical-align: top;\n",
              "    }\n",
              "\n",
              "    .dataframe thead th {\n",
              "        text-align: right;\n",
              "    }\n",
              "</style>\n",
              "<table border=\"1\" class=\"dataframe\">\n",
              "  <thead>\n",
              "    <tr style=\"text-align: right;\">\n",
              "      <th></th>\n",
              "      <th>Song Title</th>\n",
              "      <th>Artist</th>\n",
              "      <th>Male0 / Female1/Other3</th>\n",
              "      <th>Publish Year</th>\n",
              "      <th>Solo0 / Group1</th>\n",
              "      <th>Main Chord Progression</th>\n",
              "      <th>Romance</th>\n",
              "      <th>Lyrics</th>\n",
              "      <th>Translated Lyrics</th>\n",
              "      <th>bpm</th>\n",
              "      <th>danceability</th>\n",
              "    </tr>\n",
              "  </thead>\n",
              "  <tbody>\n",
              "    <tr>\n",
              "      <th>0</th>\n",
              "      <td>我很快乐</td>\n",
              "      <td>周兴哲</td>\n",
              "      <td>0</td>\n",
              "      <td>2020</td>\n",
              "      <td>0</td>\n",
              "      <td>1,5,6,3,4,5,3,6</td>\n",
              "      <td>0.0</td>\n",
              "      <td>雷雨依舊 奔跑著 世界像你 模糊停格 總以為能 永遠愛著 時間 卻幫我們上了一課 路 無法倒...</td>\n",
              "      <td>Rain still run the world like you always think...</td>\n",
              "      <td>74.402031</td>\n",
              "      <td>1.065184</td>\n",
              "    </tr>\n",
              "    <tr>\n",
              "      <th>1</th>\n",
              "      <td>过</td>\n",
              "      <td>林俊杰，王嘉尔</td>\n",
              "      <td>0</td>\n",
              "      <td>2020</td>\n",
              "      <td>0</td>\n",
              "      <td>1,7,4,1,6,3,2,5</td>\n",
              "      <td>0.0</td>\n",
              "      <td>回不去 的路口 oh oh 像過敏 紮了根 oh oh 我想起 某個人 oh oh 在我心中...</td>\n",
              "      <td>Go back through the intersection like oh oh oh...</td>\n",
              "      <td>128.099670</td>\n",
              "      <td>1.161731</td>\n",
              "    </tr>\n",
              "    <tr>\n",
              "      <th>3</th>\n",
              "      <td>很久以后</td>\n",
              "      <td>邓紫棋</td>\n",
              "      <td>1</td>\n",
              "      <td>2020</td>\n",
              "      <td>0</td>\n",
              "      <td>1,6,4,5,1,6,4,5</td>\n",
              "      <td>0.0</td>\n",
              "      <td>也許是不甘心 也許是可惜 也許無法相信 突然身邊再也不是你 能給的都已經給你 能做的都用盡全...</td>\n",
              "      <td>Maybe not willing to believe maybe but maybe n...</td>\n",
              "      <td>145.184540</td>\n",
              "      <td>1.059654</td>\n",
              "    </tr>\n",
              "    <tr>\n",
              "      <th>4</th>\n",
              "      <td>莲</td>\n",
              "      <td>张艺兴</td>\n",
              "      <td>0</td>\n",
              "      <td>2020</td>\n",
              "      <td>0</td>\n",
              "      <td>1,3,6,3,4,3,6,2</td>\n",
              "      <td>0.0</td>\n",
              "      <td>Look at me good You make an answer Look at me ...</td>\n",
              "      <td>Look at me good You make an answer Look at me ...</td>\n",
              "      <td>109.927071</td>\n",
              "      <td>1.125244</td>\n",
              "    </tr>\n",
              "    <tr>\n",
              "      <th>5</th>\n",
              "      <td>好想爱这个世界啊</td>\n",
              "      <td>华晨宇</td>\n",
              "      <td>0</td>\n",
              "      <td>2019</td>\n",
              "      <td>0</td>\n",
              "      <td>4,5,6,4,5,6,4,5</td>\n",
              "      <td>0.0</td>\n",
              "      <td>抱着沙发 睡眼昏花 凌乱头发 却渴望像电影主角一样潇洒 屋檐角下 排着乌鸦 密密麻麻 被压抑...</td>\n",
              "      <td>Sofa holding sleepy eyes dim messy hair was lo...</td>\n",
              "      <td>162.003204</td>\n",
              "      <td>0.961398</td>\n",
              "    </tr>\n",
              "    <tr>\n",
              "      <th>...</th>\n",
              "      <td>...</td>\n",
              "      <td>...</td>\n",
              "      <td>...</td>\n",
              "      <td>...</td>\n",
              "      <td>...</td>\n",
              "      <td>...</td>\n",
              "      <td>...</td>\n",
              "      <td>...</td>\n",
              "      <td>...</td>\n",
              "      <td>...</td>\n",
              "      <td>...</td>\n",
              "    </tr>\n",
              "    <tr>\n",
              "      <th>248</th>\n",
              "      <td>水调歌头</td>\n",
              "      <td>郑云龙</td>\n",
              "      <td>0</td>\n",
              "      <td>2021</td>\n",
              "      <td>0</td>\n",
              "      <td>6,5,4,5,3,5,4,5</td>\n",
              "      <td>0.0</td>\n",
              "      <td>明月几时有 把酒问青天 不知天上宫阙 今夕是何年 我欲乘风归去 又恐琼楼玉宇 高处不胜寒 起...</td>\n",
              "      <td>Comparative study of wine in the sky do not kn...</td>\n",
              "      <td>129.562775</td>\n",
              "      <td>1.073043</td>\n",
              "    </tr>\n",
              "    <tr>\n",
              "      <th>249</th>\n",
              "      <td>淒美地</td>\n",
              "      <td>郭頂</td>\n",
              "      <td>0</td>\n",
              "      <td>2016</td>\n",
              "      <td>0</td>\n",
              "      <td>4,1,3,4,1,3,4,1</td>\n",
              "      <td>1.0</td>\n",
              "      <td>曾經我是不安河水  穿過森林誤入你心 沒計劃紮營  擱下了是非  一去不回 如今我是造夢的人...</td>\n",
              "      <td>Once I was disturbed by the river through the ...</td>\n",
              "      <td>125.038483</td>\n",
              "      <td>1.560385</td>\n",
              "    </tr>\n",
              "    <tr>\n",
              "      <th>250</th>\n",
              "      <td>你是如此难以忘记</td>\n",
              "      <td>李宇春</td>\n",
              "      <td>0</td>\n",
              "      <td>2014</td>\n",
              "      <td>0</td>\n",
              "      <td>1,6,1,3,2,5,1,6</td>\n",
              "      <td>1.0</td>\n",
              "      <td>早已知道爱情是难舍难离早已知道爱一个人不该死心塌地早已不再相信所谓天长地久的结局所以我习惯了...</td>\n",
              "      <td>Already know that love is reluctant to leave h...</td>\n",
              "      <td>116.767136</td>\n",
              "      <td>0.881414</td>\n",
              "    </tr>\n",
              "    <tr>\n",
              "      <th>251</th>\n",
              "      <td>致姍姍來遲的你</td>\n",
              "      <td>阿肆</td>\n",
              "      <td>3</td>\n",
              "      <td>2016</td>\n",
              "      <td>0</td>\n",
              "      <td>4,5,3,6,4,5,1,1</td>\n",
              "      <td>1.0</td>\n",
              "      <td>我不介意你慢動作 也不介意這次先擦肩而過 吃一人份的飯 刷一人份的碗 真的我並沒有覺得孤單 ...</td>\n",
              "      <td>I do not mind if you do not mind the slow moti...</td>\n",
              "      <td>120.003136</td>\n",
              "      <td>1.321027</td>\n",
              "    </tr>\n",
              "    <tr>\n",
              "      <th>252</th>\n",
              "      <td>我最親愛的</td>\n",
              "      <td>張惠妹</td>\n",
              "      <td>1</td>\n",
              "      <td>2011</td>\n",
              "      <td>0</td>\n",
              "      <td>1,6,4,2,5,1,6,1</td>\n",
              "      <td>1.0</td>\n",
              "      <td>很想知道你近况 我听人说还不如你对我讲 经过那段遗憾 请你放心 我变得更加坚强 世界不管怎样...</td>\n",
              "      <td>You want to know the current situation I heard...</td>\n",
              "      <td>70.782921</td>\n",
              "      <td>0.990660</td>\n",
              "    </tr>\n",
              "  </tbody>\n",
              "</table>\n",
              "<p>224 rows × 11 columns</p>\n",
              "</div>"
            ],
            "text/plain": [
              "    Song Title   Artist  ...         bpm  danceability\n",
              "0         我很快乐      周兴哲  ...   74.402031      1.065184\n",
              "1            过  林俊杰，王嘉尔  ...  128.099670      1.161731\n",
              "3         很久以后      邓紫棋  ...  145.184540      1.059654\n",
              "4            莲      张艺兴  ...  109.927071      1.125244\n",
              "5     好想爱这个世界啊      华晨宇  ...  162.003204      0.961398\n",
              "..         ...      ...  ...         ...           ...\n",
              "248       水调歌头      郑云龙  ...  129.562775      1.073043\n",
              "249        淒美地       郭頂  ...  125.038483      1.560385\n",
              "250   你是如此难以忘记      李宇春  ...  116.767136      0.881414\n",
              "251    致姍姍來遲的你       阿肆  ...  120.003136      1.321027\n",
              "252      我最親愛的      張惠妹  ...   70.782921      0.990660\n",
              "\n",
              "[224 rows x 11 columns]"
            ]
          },
          "metadata": {
            "tags": []
          },
          "execution_count": 6
        }
      ]
    },
    {
      "cell_type": "code",
      "metadata": {
        "id": "qERNpFjDAErh"
      },
      "source": [
        "mandarin.loc[len(mandarin.index)] = ['WAP', 'Cardi B', 1, 2020, 0, '1,1,2,1,1,2,1,1', 0.0, 'sa', 'dasd', 132.8644257, 1.191560388]\n",
        "mandarin.loc[len(mandarin.index)+1] = ['Rockstar', 'Post Malone', 0, 2017, 0, '6,5,6,5,6,5,6,5', 0.0, 'dasd', 'dasdas', 161.6918945, 1.118424296]\n",
        "mandarin.loc[len(mandarin.index)+2] = ['Holy', 'Justin Bieber', 0, 2020, 0, '1,5,6,4,1,5,6,4', 0.0, 'sda', 'sad', 86.79120636, 1.164459944]"
      ],
      "execution_count": null,
      "outputs": []
    },
    {
      "cell_type": "code",
      "metadata": {
        "colab": {
          "base_uri": "https://localhost:8080/"
        },
        "id": "rU3Cl7tx1o_e",
        "outputId": "46f88668-6b08-4d68-da17-c4d1605876ef"
      },
      "source": [
        "english = pd.read_csv(path + 'Final Playlist Data (English).csv')\n",
        "english = english.drop(columns=['Length of Song', 'Length in Seconds'])\n",
        "english['bpm'].replace('', np.nan, inplace=True)\n",
        "english = english.dropna(subset = [\"bpm\"])\n",
        "english"
      ],
      "execution_count": null,
      "outputs": [
        {
          "output_type": "execute_result",
          "data": {
            "text/html": [
              "<div>\n",
              "<style scoped>\n",
              "    .dataframe tbody tr th:only-of-type {\n",
              "        vertical-align: middle;\n",
              "    }\n",
              "\n",
              "    .dataframe tbody tr th {\n",
              "        vertical-align: top;\n",
              "    }\n",
              "\n",
              "    .dataframe thead th {\n",
              "        text-align: right;\n",
              "    }\n",
              "</style>\n",
              "<table border=\"1\" class=\"dataframe\">\n",
              "  <thead>\n",
              "    <tr style=\"text-align: right;\">\n",
              "      <th></th>\n",
              "      <th>Song Title</th>\n",
              "      <th>Artist</th>\n",
              "      <th>Male0 / Female1/Other3</th>\n",
              "      <th>Publish Year</th>\n",
              "      <th>Solo0 / Group1</th>\n",
              "      <th>Main Chord Progression</th>\n",
              "      <th>Romance</th>\n",
              "      <th>Lyrics</th>\n",
              "      <th>bpm</th>\n",
              "      <th>danceability</th>\n",
              "    </tr>\n",
              "  </thead>\n",
              "  <tbody>\n",
              "    <tr>\n",
              "      <th>1</th>\n",
              "      <td>Save Your Tears</td>\n",
              "      <td>The Weeknd</td>\n",
              "      <td>0</td>\n",
              "      <td>2020</td>\n",
              "      <td>0</td>\n",
              "      <td>2,6,4,4,1,6,3,5</td>\n",
              "      <td>1</td>\n",
              "      <td>Ooh Yeah I saw you dancing in a crowded room Y...</td>\n",
              "      <td>117.723969</td>\n",
              "      <td>1.513067</td>\n",
              "    </tr>\n",
              "    <tr>\n",
              "      <th>2</th>\n",
              "      <td>Blinding Lights</td>\n",
              "      <td>The Weeknd</td>\n",
              "      <td>0</td>\n",
              "      <td>2020</td>\n",
              "      <td>0</td>\n",
              "      <td>2,6,1,5,2,6,1,5</td>\n",
              "      <td>1</td>\n",
              "      <td>Yeah I've been tryin' to call I've been on my ...</td>\n",
              "      <td>85.510956</td>\n",
              "      <td>1.261864</td>\n",
              "    </tr>\n",
              "    <tr>\n",
              "      <th>3</th>\n",
              "      <td>Rain on me</td>\n",
              "      <td>Lady Gaga, Ariana Grande</td>\n",
              "      <td>1</td>\n",
              "      <td>2020</td>\n",
              "      <td>0</td>\n",
              "      <td>1,5,6,5,1,6,5,1</td>\n",
              "      <td>0</td>\n",
              "      <td>I didn't ask for a free ride I only asked you ...</td>\n",
              "      <td>123.091164</td>\n",
              "      <td>1.185066</td>\n",
              "    </tr>\n",
              "    <tr>\n",
              "      <th>4</th>\n",
              "      <td>Intentions</td>\n",
              "      <td>Justin Bieber</td>\n",
              "      <td>0</td>\n",
              "      <td>2020</td>\n",
              "      <td>0</td>\n",
              "      <td>1,1,6,4,6,4,1,1</td>\n",
              "      <td>1</td>\n",
              "      <td>Picture perfect, you don't need no filter Gorg...</td>\n",
              "      <td>147.990478</td>\n",
              "      <td>1.051466</td>\n",
              "    </tr>\n",
              "    <tr>\n",
              "      <th>5</th>\n",
              "      <td>Mood</td>\n",
              "      <td>24KGoldn</td>\n",
              "      <td>0</td>\n",
              "      <td>2020</td>\n",
              "      <td>0</td>\n",
              "      <td>4,6,1,5,4,6,1,5</td>\n",
              "      <td>1</td>\n",
              "      <td>Why you always in a mood? Fuckin 'round, actin...</td>\n",
              "      <td>90.814598</td>\n",
              "      <td>1.072854</td>\n",
              "    </tr>\n",
              "    <tr>\n",
              "      <th>...</th>\n",
              "      <td>...</td>\n",
              "      <td>...</td>\n",
              "      <td>...</td>\n",
              "      <td>...</td>\n",
              "      <td>...</td>\n",
              "      <td>...</td>\n",
              "      <td>...</td>\n",
              "      <td>...</td>\n",
              "      <td>...</td>\n",
              "      <td>...</td>\n",
              "    </tr>\n",
              "    <tr>\n",
              "      <th>194</th>\n",
              "      <td>Indigo</td>\n",
              "      <td>NIKI</td>\n",
              "      <td>1</td>\n",
              "      <td>2019</td>\n",
              "      <td>0</td>\n",
              "      <td>4,1,6,5,4,1,6,5</td>\n",
              "      <td>1</td>\n",
              "      <td>Oh-oh-oh-oh-oh Oh-oh-oh-mm-mm Yeah, yeah Yeah,...</td>\n",
              "      <td>144.773621</td>\n",
              "      <td>1.237753</td>\n",
              "    </tr>\n",
              "    <tr>\n",
              "      <th>195</th>\n",
              "      <td>bury a friend</td>\n",
              "      <td>Billie Eilish</td>\n",
              "      <td>1</td>\n",
              "      <td>2019</td>\n",
              "      <td>0</td>\n",
              "      <td>1,1,1,1,1,4,5,1</td>\n",
              "      <td>0</td>\n",
              "      <td>What do you want from me? Why don't you run fr...</td>\n",
              "      <td>118.372833</td>\n",
              "      <td>1.066214</td>\n",
              "    </tr>\n",
              "    <tr>\n",
              "      <th>197</th>\n",
              "      <td>Fly Me To The Moon</td>\n",
              "      <td>Frank Sinatra</td>\n",
              "      <td>0</td>\n",
              "      <td>1954</td>\n",
              "      <td>0</td>\n",
              "      <td>1,3,6,2,5,3,4,1</td>\n",
              "      <td>1</td>\n",
              "      <td>Fly me to the moon Let me play among the stars...</td>\n",
              "      <td>117.308304</td>\n",
              "      <td>0.975252</td>\n",
              "    </tr>\n",
              "    <tr>\n",
              "      <th>198</th>\n",
              "      <td>Bad Romance</td>\n",
              "      <td>Lady Gaga</td>\n",
              "      <td>1</td>\n",
              "      <td>2009</td>\n",
              "      <td>0</td>\n",
              "      <td>1,2,5,1,2,6,1,2</td>\n",
              "      <td>1</td>\n",
              "      <td>Oh-oh-oh-oh-oh-oh-oh-oh-oh-oh-oh-oh! Caught in...</td>\n",
              "      <td>118.253670</td>\n",
              "      <td>1.294277</td>\n",
              "    </tr>\n",
              "    <tr>\n",
              "      <th>200</th>\n",
              "      <td>Back to December</td>\n",
              "      <td>Taylor Swift</td>\n",
              "      <td>1</td>\n",
              "      <td>2011</td>\n",
              "      <td>0</td>\n",
              "      <td>1,3,4,1,5,1,3,4</td>\n",
              "      <td>1</td>\n",
              "      <td>I'm so glad you made time to see me. How's lif...</td>\n",
              "      <td>142.218048</td>\n",
              "      <td>1.375119</td>\n",
              "    </tr>\n",
              "  </tbody>\n",
              "</table>\n",
              "<p>156 rows × 10 columns</p>\n",
              "</div>"
            ],
            "text/plain": [
              "             Song Title                    Artist  ...         bpm  danceability\n",
              "1       Save Your Tears                The Weeknd  ...  117.723969      1.513067\n",
              "2       Blinding Lights                The Weeknd  ...   85.510956      1.261864\n",
              "3            Rain on me  Lady Gaga, Ariana Grande  ...  123.091164      1.185066\n",
              "4            Intentions             Justin Bieber  ...  147.990478      1.051466\n",
              "5                  Mood                  24KGoldn  ...   90.814598      1.072854\n",
              "..                  ...                       ...  ...         ...           ...\n",
              "194              Indigo                      NIKI  ...  144.773621      1.237753\n",
              "195       bury a friend             Billie Eilish  ...  118.372833      1.066214\n",
              "197  Fly Me To The Moon             Frank Sinatra  ...  117.308304      0.975252\n",
              "198         Bad Romance                 Lady Gaga  ...  118.253670      1.294277\n",
              "200    Back to December              Taylor Swift  ...  142.218048      1.375119\n",
              "\n",
              "[156 rows x 10 columns]"
            ]
          },
          "metadata": {
            "tags": []
          },
          "execution_count": 8
        }
      ]
    },
    {
      "cell_type": "code",
      "metadata": {
        "id": "NWuBKsXA1o_e"
      },
      "source": [
        "# Calculate chord differences for English dataset\n",
        "chord_progressions = english['Main Chord Progression']\n",
        "chord_list = chord_progressions.values.tolist()\n",
        "empty_list = []\n",
        "for value in chord_list:\n",
        "    temp = list(map(int, value.split(',')))\n",
        "    empty_list.append([j-i for i, j in zip(temp[:-1], temp[1:])])\n",
        "english['Chord Difference'] = empty_list\n",
        "    \n",
        "# Calculate chord differences for Mandarin dataset\n",
        "chord_progressions1 = mandarin['Main Chord Progression']\n",
        "chord_list_mandarin = chord_progressions1.values.tolist()\n",
        "empty_list1 = []\n",
        "for value in chord_list_mandarin:\n",
        "    temp1 = list(map(int, value.split(',')))\n",
        "    empty_list1.append([j-i for i, j in zip(temp1[:-1], temp1[1:])])\n",
        "mandarin['Chord Difference'] = empty_list1"
      ],
      "execution_count": null,
      "outputs": []
    },
    {
      "cell_type": "markdown",
      "metadata": {
        "id": "c9SS5JxKjgjh"
      },
      "source": [
        "------------------------------------------\n",
        "#**4. Define Tinger's main recommendation functions**#"
      ]
    },
    {
      "cell_type": "code",
      "metadata": {
        "id": "z3SMVjjkhkx4"
      },
      "source": [
        "def similar(a, b):\n",
        "    return SequenceMatcher(None, a, b).ratio()"
      ],
      "execution_count": null,
      "outputs": []
    },
    {
      "cell_type": "code",
      "metadata": {
        "id": "dWc0zfBI1o_f"
      },
      "source": [
        "def tinger_no_snn(song_title, eng):\n",
        "    \"\"\"\n",
        "    \n",
        "    Inputs: \n",
        "        song_title : string, the title of song the user likes\n",
        "        \n",
        "        eng : boolean, True if input song is in English; False if input song is in Mandarin\n",
        "        \n",
        "    Outputs:\n",
        "        song_recs : 5 song recommendations in the other language\n",
        "    \n",
        "    \"\"\"\n",
        "\n",
        "    # Identify all the paths needed -- paths may be different for different users\n",
        "    model_path = '/content/drive/MyDrive/Tinger/Code/'\n",
        "\n",
        "    mandarin_mel_path = '/content/drive/MyDrive/Tinger/Code/WAVtoShortMelSpectrogram-Output/Mel_Mandarin'\n",
        "    english_mel_path = '/content/drive/MyDrive/Tinger/Code/WAVtoShortMelSpectrogram-Output/Mel_English'\n",
        "\n",
        "    mandarin_csv_path = '/content/drive/MyDrive/Tinger/Documentation/Final Playlist Data (Mandarin).csv'\n",
        "    english_csv_path = '/content/drive/MyDrive/Tinger/Documentation/Final Playlist Data (English).csv'\n",
        "        \n",
        "    if eng:\n",
        "        #get romance label of input song\n",
        "        r = english[english['Song Title']==song_title]['Romance']\n",
        "        \n",
        "        #add metadata distances\n",
        "        X = mandarin.iloc[:, 2:5].values\n",
        "        y = mandarin.iloc[:, 0].values\n",
        "        x = english[english['Song Title']==song_title].iloc[:, 2:5].values\n",
        "        classifier = KNeighborsClassifier(n_neighbors=len(mandarin))\n",
        "        classifier.fit(X, y)\n",
        "        distances, indices = classifier.kneighbors(x, n_neighbors=len(mandarin))\n",
        "        dist = pd.DataFrame(distances[0], indices[0]).rename(columns={0: \"meta_dist\"})\n",
        "        final = mandarin.merge(dist, how='inner', left_index=True, right_index=True)\n",
        "        \n",
        "        #add bpm distances\n",
        "        man_X = mandarin.iloc[:, 9:11].values\n",
        "        man_y = mandarin.iloc[:, 0].values\n",
        "        x1 = english[english['Song Title']==song_title].iloc[:, 8:10].values\n",
        "        bpm_classifier = KNeighborsClassifier(n_neighbors=len(mandarin))\n",
        "        bpm_classifier.fit(man_X, man_y)\n",
        "        distances1, indices1 = bpm_classifier.kneighbors(x1, n_neighbors=len(mandarin))\n",
        "        dist1 = pd.DataFrame(distances1[0], indices1[0]).rename(columns={0: \"bpm_dist\"})\n",
        "        final = final.merge(dist1, how='inner', left_index=True, right_index=True)\n",
        "        \n",
        "        #add chord progression similarity scores\n",
        "        diff = english.loc[english['Song Title'] == song_title]['Chord Difference'].values[0]\n",
        "        final['chord_sim'] = mandarin['Chord Difference'].map(lambda y: similar(y, diff))\n",
        "        \n",
        "        # #add snn similarity scores\n",
        "        # output = UseSNN.similarities_matrix(model_path, mandarin_mel_path, english_mel_path, english_csv_path, song_title, 1)\n",
        "        # similarities_matrix = output[0]\n",
        "        # comparison_titles = output[3]\n",
        "        # final_dict = UseSNN.similarities_dict(similarities_matrix, comparison_titles)\n",
        "\n",
        "    else:\n",
        "        #get romance label of input song\n",
        "        r = mandarin[mandarin['Song Title']==song_title]['Romance']\n",
        "\n",
        "        #add metadata distances\n",
        "        X = english.iloc[:, 2:5].values\n",
        "        y = english.iloc[:, 0].values\n",
        "        x = mandarin[mandarin['Song Title']==song_title].iloc[:, 2:5].values\n",
        "        meta_classifier = KNeighborsClassifier(n_neighbors=len(english))\n",
        "        meta_classifier.fit(X, y)\n",
        "        distances, indices = meta_classifier.kneighbors(x, n_neighbors=len(english))\n",
        "        dist = pd.DataFrame(distances[0], indices[0]).rename(columns={0: \"meta_dist\"})\n",
        "        final = english.merge(dist, how='inner', left_index=True, right_index=True)\n",
        "        \n",
        "        #add bpm distances\n",
        "        eng_X = english.iloc[:, 8:10].values\n",
        "        eng_y = english.iloc[:, 0].values\n",
        "        x1 = mandarin[mandarin['Song Title']==song_title].iloc[:, 9:11].values\n",
        "        bpm_classifier = KNeighborsClassifier(n_neighbors=len(english))\n",
        "        bpm_classifier.fit(eng_X, eng_y)\n",
        "        distances1, indices1 = bpm_classifier.kneighbors(x1, n_neighbors=len(english))\n",
        "        dist1 = pd.DataFrame(distances1[0], indices1[0]).rename(columns={0: \"bpm_dist\"})\n",
        "        final = final.merge(dist1, how='inner', left_index=True, right_index=True)\n",
        "        \n",
        "        #add chord progression similarity scores\n",
        "        diff = mandarin.loc[mandarin['Song Title'] == song_title]['Chord Difference'].values[0]\n",
        "        final['chord_sim'] = english['Chord Difference'].map(lambda y: similar(y, diff))\n",
        "\n",
        "        #add snn similarity scores\n",
        "        # path = '/content/drive/My Drive/Tinger/Code/WAVtoShortMelSpectrogram-Output/Mel_Mandarin/'\n",
        "    \n",
        "    # Compute final similarity score\n",
        "    final['score'] = -.005*final['meta_dist']-.03*final['bpm_dist']+.8*final['chord_sim']\n",
        "#    final['score'] = -.005*final['meta_dist']-.01*final['bpm_dist']+.5*final['chord_sim']\n",
        "#     final['score'] = -.1*final['meta_dist']-.1*final['bpm_dist']+.5*final['snn_sim']+.5*final['chord_sim']\n",
        "    \n",
        "    # Filter out songs with different romance label\n",
        "    final = final[final['Romance']==r.iloc[0]].sort_values('score', ascending=False)\n",
        "    \n",
        "    # Select top 5 most similar songs\n",
        "    song_recs = final['Song Title'].iloc[0:5]\n",
        "\n",
        "    return song_recs"
      ],
      "execution_count": null,
      "outputs": []
    },
    {
      "cell_type": "code",
      "metadata": {
        "id": "ikwgY6Okv0le"
      },
      "source": [
        "def tinger(song_title, eng):\n",
        "    \"\"\"\n",
        "    \n",
        "    Inputs: \n",
        "        song_title : string, the title of song the user likes\n",
        "        \n",
        "        english : boolean, True if input song is in English; False if input song is in Mandarin\n",
        "        \n",
        "    Outputs:\n",
        "        song_recs : 5 song recommendations in the other language\n",
        "    \n",
        "    \"\"\"\n",
        "\n",
        "    # Identify all the paths needed -- paths may be different for different users\n",
        "    model_path = '/content/drive/MyDrive/Tinger/Code/'\n",
        "\n",
        "    mandarin_mel_path = '/content/drive/MyDrive/Tinger/Code/WAVtoShortMelSpectrogram-Output/Mel_Mandarin'\n",
        "    english_mel_path = '/content/drive/MyDrive/Tinger/Code/WAVtoShortMelSpectrogram-Output/Mel_English'\n",
        "\n",
        "    mandarin_csv_path = '/content/drive/MyDrive/Tinger/Documentation/Final Playlist Data (Mandarin).csv'\n",
        "    english_csv_path = '/content/drive/MyDrive/Tinger/Documentation/Final Playlist Data (English).csv'\n",
        "        \n",
        "    if eng:\n",
        "        #get romance label of input song\n",
        "        r = english[english['Song Title']==song_title]['Romance']\n",
        "        \n",
        "        #add metadata distances\n",
        "        X = mandarin.iloc[:, 2:5].values\n",
        "        y = mandarin.iloc[:, 0].values\n",
        "        x = english[english['Song Title']==song_title].iloc[:, 2:5].values\n",
        "        classifier = KNeighborsClassifier(n_neighbors=len(mandarin))\n",
        "        classifier.fit(X, y)\n",
        "        distances, indices = classifier.kneighbors(x, n_neighbors=len(mandarin))\n",
        "        dist = pd.DataFrame(distances[0], indices[0]).rename(columns={0: \"meta_dist\"})\n",
        "        final = mandarin.merge(dist, how='inner', left_index=True, right_index=True)\n",
        "        \n",
        "        #add bpm distances\n",
        "        man_X = mandarin.iloc[:, 9:11].values\n",
        "        man_y = mandarin.iloc[:, 0].values\n",
        "        x1 = english[english['Song Title']==song_title].iloc[:, 8:10].values\n",
        "        bpm_classifier = KNeighborsClassifier(n_neighbors=len(mandarin))\n",
        "        bpm_classifier.fit(man_X, man_y)\n",
        "        distances1, indices1 = bpm_classifier.kneighbors(x1, n_neighbors=len(mandarin))\n",
        "        dist1 = pd.DataFrame(distances1[0], indices1[0]).rename(columns={0: \"bpm_dist\"})\n",
        "        final = final.merge(dist1, how='inner', left_index=True, right_index=True)\n",
        "        \n",
        "        #add chord progression similarity scores\n",
        "        diff = english.loc[english['Song Title'] == song_title]['Chord Difference'].values[0]\n",
        "        final['chord_sim'] = mandarin['Chord Difference'].map(lambda y: similar(y, diff))\n",
        "        \n",
        "        #add snn similarity scores\n",
        "        output = UseSNN.similarities_matrix(model_path, english_mel_path, mandarin_mel_path, mandarin_csv_path, song_title, 0)\n",
        "        similarities_matrix = output[0]\n",
        "        comparison_titles = output[3]\n",
        "        final_dict = UseSNN.similarities_dict(similarities_matrix, comparison_titles)\n",
        "        d = {'Song Title': final_dict.keys(), 'snn_sim': final_dict.values()}\n",
        "        snn_df = pd.DataFrame(data=d)\n",
        "        final = final.merge(snn_df, how='inner', on='Song Title')\n",
        "        \n",
        "\n",
        "    else:\n",
        "        #get romance label of input song\n",
        "        r = mandarin[mandarin['Song Title']==song_title]['Romance']\n",
        "\n",
        "        #add metadata distances\n",
        "        X = english.iloc[:, 2:5].values\n",
        "        y = english.iloc[:, 0].values\n",
        "        x = mandarin[mandarin['Song Title']==song_title].iloc[:, 2:5].values\n",
        "        meta_classifier = KNeighborsClassifier(n_neighbors=len(english))\n",
        "        meta_classifier.fit(X, y)\n",
        "        distances, indices = meta_classifier.kneighbors(x, n_neighbors=len(english))\n",
        "        dist = pd.DataFrame(distances[0], indices[0]).rename(columns={0: \"meta_dist\"})\n",
        "        final = english.merge(dist, how='inner', left_index=True, right_index=True)\n",
        "        \n",
        "        #add bpm distances\n",
        "        eng_X = english.iloc[:, 8:10].values\n",
        "        eng_y = english.iloc[:, 0].values\n",
        "        x1 = mandarin[mandarin['Song Title']==song_title].iloc[:, 9:11].values\n",
        "        bpm_classifier = KNeighborsClassifier(n_neighbors=len(english))\n",
        "        bpm_classifier.fit(eng_X, eng_y)\n",
        "        distances1, indices1 = bpm_classifier.kneighbors(x1, n_neighbors=len(english))\n",
        "        dist1 = pd.DataFrame(distances1[0], indices1[0]).rename(columns={0: \"bpm_dist\"})\n",
        "        final = final.merge(dist1, how='inner', left_index=True, right_index=True)\n",
        "        \n",
        "        #add chord progression similarity scores\n",
        "        diff = mandarin.loc[mandarin['Song Title'] == song_title]['Chord Difference'].values[0]\n",
        "        final['chord_sim'] = english['Chord Difference'].map(lambda y: similar(y, diff))\n",
        "\n",
        "        #add snn similarity scores\n",
        "        output = UseSNN.similarities_matrix(model_path, mandarin_mel_path, english_mel_path, english_csv_path, song_title, 0)\n",
        "        similarities_matrix = output[0]\n",
        "        comparison_titles = output[3]\n",
        "        final_dict = UseSNN.similarities_dict(similarities_matrix, comparison_titles)\n",
        "        d = {'Song Title': final_dict.keys(), 'snn_sim': final_dict.values()}\n",
        "        snn_df = pd.DataFrame(data=d)\n",
        "        final = final.merge(snn_df, how='inner', on='Song Title')\n",
        "    \n",
        "    # Compute final similarity score\n",
        "    final['score'] = -.005*final['meta_dist']-.01*final['bpm_dist']+.8*final['chord_sim']+.2*final['snn_sim']\n",
        "    \n",
        "    # Filter out songs with different romance label\n",
        "    final = final[final['Romance']==r.iloc[0]].sort_values('score', ascending=False)\n",
        "    \n",
        "    # Select top 5 most similar songs\n",
        "    song_recs = final['Song Title'].iloc[0:5]\n",
        "\n",
        "    return song_recs"
      ],
      "execution_count": null,
      "outputs": []
    },
    {
      "cell_type": "markdown",
      "metadata": {
        "id": "kNbxS1iEJrJp"
      },
      "source": [
        "------------------------------------------\n",
        "#**5. Initialize Tinger's full stack**#\n",
        "\n",
        "Tinger's models requires roughly 10x more time to run in its initial trial immediately after initialization. The following code block runs an initial test trial to decrease runtime for future trials: 13s on average per recommendation."
      ]
    },
    {
      "cell_type": "code",
      "metadata": {
        "colab": {
          "base_uri": "https://localhost:8080/"
        },
        "id": "9fcY9XqmKGMs",
        "outputId": "cc66a25e-bb59-4c71-b121-6e7365fba3d0"
      },
      "source": [
        "print(tinger_no_snn('A Thousand Years', eng=True))\n",
        "print(tinger('A Thousand Years', eng=True))"
      ],
      "execution_count": null,
      "outputs": [
        {
          "output_type": "stream",
          "text": [
            "199      不将就\n",
            "31      好久不见\n",
            "23     恋爱ing\n",
            "110       男孩\n",
            "171      不将就\n",
            "Name: Song Title, dtype: object\n",
            "53      男孩\n",
            "17    你的背包\n",
            "95    目不转睛\n",
            "51      兜圈\n",
            "20    小步舞曲\n",
            "Name: Song Title, dtype: object\n"
          ],
          "name": "stdout"
        }
      ]
    },
    {
      "cell_type": "markdown",
      "metadata": {
        "id": "LONxvnSY-o3R"
      },
      "source": [
        "-------------------------------\n",
        "#**[Optional] Steps to implement the Tinger siamese neural network**#"
      ]
    },
    {
      "cell_type": "code",
      "metadata": {
        "id": "UO1jPRN0-yxS"
      },
      "source": [
        "# Step 1: Identify all the paths needed -- paths may be different for different users\n",
        "model_path = '/content/drive/MyDrive/Tinger/Code/'\n",
        "\n",
        "mandarin_mel_path = '/content/drive/MyDrive/Tinger/Code/WAVtoShortMelSpectrogram-Output/Mel_Mandarin'\n",
        "english_mel_path = '/content/drive/MyDrive/Tinger/Code/WAVtoShortMelSpectrogram-Output/Mel_English'\n",
        "\n",
        "mandarin_csv_path = '/content/drive/MyDrive/Tinger/Documentation/Final Playlist Data (Mandarin).csv'\n",
        "english_csv_path = '/content/drive/MyDrive/Tinger/Documentation/Final Playlist Data (English).csv'"
      ],
      "execution_count": null,
      "outputs": []
    },
    {
      "cell_type": "markdown",
      "metadata": {
        "id": "nyTwdlJmMKNZ"
      },
      "source": [
        "**Note before advancing:**\n",
        "1. Make sure that all necessary dependencies are installed and imported. Please run the first 5 code blocks, more than once if necessary, to ensure proper installation.\n",
        "\n",
        "2. Click on the RAM/Disk info above on the top right of this notebook. Ensure that the notebook is running on a **Python 3 Google Compute Engine backend (GPU)**. If not, click **Change Runtime Type** on the bottom of the Resources tab to change the backend to a GPU, then re-run the notebook.\n",
        "\n",
        "3. Prior test trials have shown that the SNN takes roughly 10x the runtime to compute similarity matrices on its first run. Before showcasing, try to run the model at least once in advance."
      ]
    },
    {
      "cell_type": "code",
      "metadata": {
        "colab": {
          "base_uri": "https://localhost:8080/"
        },
        "id": "Pb8JwlFr_J7X",
        "outputId": "6f471fcb-1f7e-4391-c191-012da3591ce1"
      },
      "source": [
        "# Step 2: Select a target song to run through Tinger's model stack\n",
        "# Also identify the direction in which Tinger is recommending songs:\n",
        "# Mandarin >> English:  direction = 0\n",
        "# English  >> Mandarin: direction = 1\n",
        "\n",
        "target = '好喜歡你'\n",
        "direction = 0\n",
        "\n",
        "# The function similarities_matrix() outputs a list of length 5 as follows:\n",
        "# [results_matrix, target_title, target_data, comparison_title, comparison_data]\n",
        "# In order to create the desired dictionary, only results_matrix and comparison_title are needed.\n",
        "# All objects are provided regardless for the sake of completeness\n",
        "\n",
        "# Arguments:\n",
        "# similarities_matrix(snn_path, mandarin_mel_path, english_mel_path, csv_path, target_title, direction)\n",
        "\n",
        "start_time = default_timer()\n",
        "output = UseSNN.similarities_matrix(model_path, mandarin_mel_path, english_mel_path, english_csv_path, target, direction)\n",
        "end_time = default_timer()\n",
        "print('Calculating the similarities matrix takes {0} seconds to run.'.format(end_time-start_time))"
      ],
      "execution_count": null,
      "outputs": [
        {
          "output_type": "stream",
          "text": [
            "Calculating the similarities matrix takes 22.17813901799991 seconds to run.\n"
          ],
          "name": "stdout"
        }
      ]
    },
    {
      "cell_type": "code",
      "metadata": {
        "id": "UA2QN-o5Pi2C"
      },
      "source": [
        "similarities_matrix = output[0]\n",
        "comparison_titles = output[3]"
      ],
      "execution_count": null,
      "outputs": []
    },
    {
      "cell_type": "code",
      "metadata": {
        "colab": {
          "base_uri": "https://localhost:8080/",
          "height": 203
        },
        "id": "6A4r5VzZOiYg",
        "outputId": "bd89421b-bc4b-41ee-befd-bcfd416ddfcb"
      },
      "source": [
        "# Step 3: Create a heatmap using the generate_heatmap() function for a graphical visual\n",
        "# Use the similarities matrix from Step 2 as the input.\n",
        "# Change the n_row and n_col arguments to create extracts of the matrix.\n",
        "# Default values: n_row = 5 (highly recommended), n_col = 80\n",
        "# Identify a filepath to save the heatmap\n",
        "\n",
        "# Arguments:\n",
        "# generate_heatmap(mat, n_row=5, n_col=40, save_path=None)\n",
        "\n",
        "UseSNN.generate_heatmap(similarities_matrix)"
      ],
      "execution_count": null,
      "outputs": [
        {
          "output_type": "display_data",
          "data": {
            "image/png": "[encoded data removed]",
            "text/plain": [
              "<Figure size 2880x1440 with 1 Axes>"
            ]
          },
          "metadata": {
            "tags": [],
            "needs_background": "light"
          }
        }
      ]
    },
    {
      "cell_type": "code",
      "metadata": {
        "colab": {
          "base_uri": "https://localhost:8080/"
        },
        "id": "Z0vX93QdMGbu",
        "outputId": "d10d6f9f-72d1-4675-fca8-ea9dea7806e8"
      },
      "source": [
        "# Step 4: Retrieve the similarities matrix and comparison titles from the output in Step 2.\n",
        "# Use them as inputs into the similarities_dict() function that outputs our final dictionary.\n",
        "# This dictionary will be used as an input into the complete Tinger stack\n",
        "\n",
        "start_time = default_timer()\n",
        "final_dict = UseSNN.similarities_dict(similarities_matrix, comparison_titles)\n",
        "end_time = default_timer()\n",
        "print('Compiling the similarities dictionary takes {0} seconds to run.'.format(end_time-start_time))\n",
        "print('Can\\'t Lie has a similarty constant of {0} with the target song, {1}'.format(final_dict[\"Can't Lie\"], target))"
      ],
      "execution_count": null,
      "outputs": [
        {
          "output_type": "stream",
          "text": [
            "Compiling the similarities dictionary takes 0.0030612240000209567 seconds to run.\n",
            "Can't Lie has a similarty constant of 0.004525488981744275 with the target song, 好喜歡你\n"
          ],
          "name": "stdout"
        }
      ]
    },
    {
      "cell_type": "markdown",
      "metadata": {
        "id": "VOYknq3khRIi"
      },
      "source": [
        "-------------------------------\n",
        "#**[Optional] Sample Outputs for Tinger's stack without and without the Siamese Neural Network**#"
      ]
    },
    {
      "cell_type": "code",
      "metadata": {
        "colab": {
          "base_uri": "https://localhost:8080/"
        },
        "id": "2_i1t5kBwgVY",
        "outputId": "db8e5198-cf57-432a-c3a5-5ca1a13385c4"
      },
      "source": [
        "# Test run of Tinger without siamese neural network\n",
        "print(tinger_no_snn('A Thousand Years', eng=True))\n",
        "print('\\n')\n",
        "print(tinger_no_snn('不将就', eng=False))"
      ],
      "execution_count": null,
      "outputs": [
        {
          "output_type": "stream",
          "text": [
            "199      不将就\n",
            "31      好久不见\n",
            "23     恋爱ing\n",
            "110       男孩\n",
            "171      不将就\n",
            "Name: Song Title, dtype: object\n",
            "\n",
            "\n",
            "96                Stay\n",
            "140            Secrets\n",
            "108              34+35\n",
            "72      What Lovers Do\n",
            "1      Save Your Tears\n",
            "Name: Song Title, dtype: object\n"
          ],
          "name": "stdout"
        }
      ]
    },
    {
      "cell_type": "code",
      "metadata": {
        "colab": {
          "base_uri": "https://localhost:8080/"
        },
        "id": "pEurp6A6GVzG",
        "outputId": "7e331d02-356c-4d04-9b87-10a458467d81"
      },
      "source": [
        "print(tinger('Perfect', eng=True))\n",
        "print('\\n')\n",
        "print(tinger('雪花落下', eng=False))\n",
        "print('\\n')\n",
        "print(tinger('暖暖', eng=False))\n",
        "print('\\n')\n",
        "print(tinger('意外', eng=False))\n",
        "print('\\n')\n",
        "print(tinger('你，好不好', eng=False))\n",
        "print('\\n')\n",
        "print(tinger('男孩', eng=False))"
      ],
      "execution_count": null,
      "outputs": [
        {
          "output_type": "stream",
          "text": [
            "70     雪花落下\n",
            "99       暖暖\n",
            "68       意外\n",
            "44    你，好不好\n",
            "53       男孩\n",
            "Name: Song Title, dtype: object\n",
            "\n",
            "\n",
            "124               Without Me\n",
            "37                Photograph\n",
            "33             Wrecking Ball\n",
            "43     Make You Feel My Love\n",
            "100               Hot N Cold\n",
            "Name: Song Title, dtype: object\n",
            "\n",
            "\n",
            "110       Beautiful In White\n",
            "68     We Don't Talk Anymore\n",
            "94                 Bad Blood\n",
            "70             One Call Away\n",
            "40          Someone Like You\n",
            "Name: Song Title, dtype: object\n",
            "\n",
            "\n",
            "91                     ME!\n",
            "88               Positions\n",
            "103     You Are The Reason\n",
            "46                    Baby\n",
            "64     Talking to the Moon\n",
            "Name: Song Title, dtype: object\n",
            "\n",
            "\n",
            "90           Love Story\n",
            "51    She Will Be Loved\n",
            "94            Bad Blood\n",
            "47        Jar of Hearts\n",
            "76                 Stay\n",
            "Name: Song Title, dtype: object\n",
            "\n",
            "\n",
            "124               Without Me\n",
            "43     Make You Feel My Love\n",
            "88                 Positions\n",
            "13               Levitating \n",
            "18                 The Steps\n",
            "Name: Song Title, dtype: object\n"
          ],
          "name": "stdout"
        }
      ]
    },
    {
      "cell_type": "code",
      "metadata": {
        "colab": {
          "base_uri": "https://localhost:8080/"
        },
        "id": "r0uYKgqU-OvS",
        "outputId": "d9df6d37-dc85-4e60-d897-51341c778def"
      },
      "source": [
        "# 'Fake Mandarin' Sanity Test\n",
        "print(tinger('WAP', eng=False))\n",
        "print('\\n')\n",
        "print(tinger('Holy', eng=False))\n",
        "print('\\n')\n",
        "print(tinger('Rockstar', eng=False))"
      ],
      "execution_count": null,
      "outputs": [
        {
          "output_type": "stream",
          "text": [
            "5                         WAP\n",
            "118         Unpack Your Heart\n",
            "121                   Perfume\n",
            "26                Uptown Funk\n",
            "117    People Help The People\n",
            "Name: Song Title, dtype: object\n",
            "\n",
            "\n",
            "7                Holy\n",
            "112    If I Die Young\n",
            "73         Poker Face\n",
            "17       Midnight Sky\n",
            "48              Human\n",
            "Name: Song Title, dtype: object\n",
            "\n",
            "\n",
            "5                    WAP\n",
            "2             Rain on me\n",
            "6               Rockstar\n",
            "98              Firework\n",
            "34    Castle on the Hill\n",
            "Name: Song Title, dtype: object\n"
          ],
          "name": "stdout"
        }
      ]
    },
    {
      "cell_type": "code",
      "metadata": {
        "colab": {
          "base_uri": "https://localhost:8080/"
        },
        "id": "WZC-bqJ9Mpcp",
        "outputId": "be602a47-0f4d-4012-ed20-ffda501e5dc5"
      },
      "source": [
        "# 'Fake Mandarin' Sanity Test 2\n",
        "print(tinger_no_snn('WAP', eng=False))\n",
        "print('\\n')\n",
        "print(tinger_no_snn('Holy', eng=False))\n",
        "print('\\n')\n",
        "print(tinger_no_snn('Rockstar', eng=False))"
      ],
      "execution_count": null,
      "outputs": [
        {
          "output_type": "stream",
          "text": [
            "146              Perfume\n",
            "35           Uptown Funk\n",
            "134        Big Girls Cry\n",
            "114         Shake it Off\n",
            "143    Unpack Your Heart\n",
            "Name: Song Title, dtype: object\n",
            "\n",
            "\n",
            "7            Rockstar\n",
            "137    If I Die Young\n",
            "73               Maps\n",
            "80          24K Magic\n",
            "30      See You Again\n",
            "Name: Song Title, dtype: object\n",
            "\n",
            "\n",
            "6                WAP\n",
            "3         Rain on me\n",
            "106    Thank U, Next\n",
            "120         Firework\n",
            "119             Roar\n",
            "Name: Song Title, dtype: object\n"
          ],
          "name": "stdout"
        }
      ]
    },
    {
      "cell_type": "markdown",
      "metadata": {
        "id": "YcVhS9wguLI9"
      },
      "source": [
        "-------------------------------\n",
        "#**6. Export to Web App using Anvil**#\n",
        "**This cell must be running in order for our web app to stay alive.**\n",
        "\n",
        "Must run all the cells above (except the 'Steps to Implement Tinger's SNN stack') to ensure dashboard works properly.\n",
        "\n",
        "Most importantly, make sure all the dependencies are installed and imported correctly."
      ]
    },
    {
      "cell_type": "code",
      "metadata": {
        "id": "QiYYEN89xayC",
        "colab": {
          "base_uri": "https://localhost:8080/",
          "height": 292
        },
        "outputId": "f7d6b0b4-0181-46fc-cc4f-212cbeffea78"
      },
      "source": [
        "import anvil.server\n",
        "\n",
        "anvil.server.connect('AEDGXEE47FPVOY7EIKVZQWP4-A4FM7JK7KIDQP2JF')\n",
        "\n",
        "@anvil.server.callable\n",
        "def make_recommendation(song_title, eng):\n",
        "  recs = tinger(song_title, eng)\n",
        "  recs = recs.values\n",
        "\n",
        "  return recs  \n",
        "\n",
        "anvil.server.wait_forever()"
      ],
      "execution_count": null,
      "outputs": [
        {
          "output_type": "error",
          "ename": "KeyboardInterrupt",
          "evalue": "ignored",
          "traceback": [
            "\u001b[0;31m---------------------------------------------------------------------------\u001b[0m",
            "\u001b[0;31mKeyboardInterrupt\u001b[0m                         Traceback (most recent call last)",
            "\u001b[0;32m<ipython-input-15-8c5c61dd359d>\u001b[0m in \u001b[0;36m<module>\u001b[0;34m()\u001b[0m\n\u001b[1;32m     10\u001b[0m   \u001b[0;32mreturn\u001b[0m \u001b[0mrecs\u001b[0m\u001b[0;34m\u001b[0m\u001b[0;34m\u001b[0m\u001b[0m\n\u001b[1;32m     11\u001b[0m \u001b[0;34m\u001b[0m\u001b[0m\n\u001b[0;32m---> 12\u001b[0;31m \u001b[0manvil\u001b[0m\u001b[0;34m.\u001b[0m\u001b[0mserver\u001b[0m\u001b[0;34m.\u001b[0m\u001b[0mwait_forever\u001b[0m\u001b[0;34m(\u001b[0m\u001b[0;34m)\u001b[0m\u001b[0;34m\u001b[0m\u001b[0;34m\u001b[0m\u001b[0m\n\u001b[0m",
            "\u001b[0;32m/usr/local/lib/python3.7/dist-packages/anvil/server.py\u001b[0m in \u001b[0;36mwait_forever\u001b[0;34m()\u001b[0m\n\u001b[1;32m    338\u001b[0m     \u001b[0m_get_connection\u001b[0m\u001b[0;34m(\u001b[0m\u001b[0;34m)\u001b[0m\u001b[0;34m\u001b[0m\u001b[0;34m\u001b[0m\u001b[0m\n\u001b[1;32m    339\u001b[0m     \u001b[0;32mwhile\u001b[0m \u001b[0;32mTrue\u001b[0m\u001b[0;34m:\u001b[0m\u001b[0;34m\u001b[0m\u001b[0;34m\u001b[0m\u001b[0m\n\u001b[0;32m--> 340\u001b[0;31m         \u001b[0mtime\u001b[0m\u001b[0;34m.\u001b[0m\u001b[0msleep\u001b[0m\u001b[0;34m(\u001b[0m\u001b[0;36m1\u001b[0m\u001b[0;34m)\u001b[0m\u001b[0;34m\u001b[0m\u001b[0;34m\u001b[0m\u001b[0m\n\u001b[0m",
            "\u001b[0;31mKeyboardInterrupt\u001b[0m: "
          ]
        }
      ]
    },
    {
      "cell_type": "code",
      "metadata": {
        "id": "Jp4NU74YsiN7"
      },
      "source": [
        ""
      ],
      "execution_count": null,
      "outputs": []
    }
  ]
}